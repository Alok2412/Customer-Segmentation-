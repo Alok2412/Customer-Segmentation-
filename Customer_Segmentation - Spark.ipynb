{
 "cells": [
  {
   "cell_type": "markdown",
   "metadata": {},
   "source": [
    "#### Problem Statement\n",
    "\n",
    "1) Describe the data set and eventual anomalies you find.    \n",
    "2) Which patterns do you find in the purchasing behavior of the customer?            \n",
    "3) What are the categories and genres which customers are mostly intrested in?     \n",
    "4) Split the customers in different groups based on their purchasing behavior.     \n",
    "   a) Justify your choice for adopted method(s) and model(s).                          \n",
    "   b) Describe the defined customer groups. What are the features which are driving the differentiation amongst the different groups?    \n",
    "   c) Give suggestions how the business should treat these clusters differently.        \n",
    "5) Assuming that the 'Category_Reporting' tells you the category of all the items in that order, predic:    \n",
    "   a) The number of items per category which will be ordered on a monthly basis for rest of May 2021.    \n",
    "   b) The number of returns for the rest of May 2021.      \n",
    "6) As, at this point in your analysis you are the dataset expert, suggest any ideas (initiatives, further analysis) you might have in mind which can be helpful for the business.    \n",
    "   "
   ]
  },
  {
   "cell_type": "code",
   "execution_count": 1,
   "metadata": {},
   "outputs": [],
   "source": [
    "# loading packages\n",
    "import pandas as pd\n",
    "import numpy as np\n",
    "from sklearn.impute import KNNImputer\n",
    "import math\n",
    "import matplotlib.pyplot as plt\n",
    "import seaborn as sns\n",
    "from collections import Counter\n",
    "\n",
    "from pyspark import SparkConf\n",
    "from pyspark.context import SparkContext\n",
    "from pyspark.sql import SQLContext\n",
    "from pyspark.sql import SparkSession\n",
    "\n",
    "#     .config(\"spark.executor.instance\",\"3\")\\\n",
    "#     .config(\"spark.sql.execution.arrow.pyspark.enabled\", \"true\")\\\n",
    "#     .config('spark.sql.shuffle.partitions',\"128\")\\\n",
    "#     .config(\"spark.debug.maxToStringsFields\",\"100\")\\\n",
    "#     .appName(\"Customer Segmentation\") \\\n",
    "#     .getOrCreate()\n",
    "\n",
    "import warnings\n",
    "warnings.filterwarnings('ignore')\n",
    "\n",
    "pd.set_option('display.max_columns',None)"
   ]
  },
  {
   "cell_type": "code",
   "execution_count": 2,
   "metadata": {},
   "outputs": [],
   "source": [
    "spark = SparkSession \\\n",
    "    .builder \\\n",
    "    .master('spark://192.168.1.14:7077')\\\n",
    "    .config(\"spark.driver.memory\", \"4g\")\\\n",
    "    .config(\"spark.driver.cores\", '4')\\\n",
    "    .config(\"spark.executor.memory\", \"4g\")\\\n",
    "    .config(\"spark.executor.cores\",\"4\")\\\n",
    "    .config(\"spark.cores.max\", '8')\\\n",
    "    .appName(\"Customer Segmentation\")\\\n",
    "    .getOrCreate()"
   ]
  },
  {
   "cell_type": "code",
   "execution_count": 22,
   "metadata": {},
   "outputs": [],
   "source": [
    "# reading the data set\n",
    "df = spark.read.csv(r\"C:\\Users\\Owner\\OneDrive\\Desktop\\Python Code\\EMP Systems\\EMP_DataScientist_CS\\Data\\EMPCaseStudy_v1.csv\",header =True)"
   ]
  },
  {
   "cell_type": "code",
   "execution_count": 23,
   "metadata": {
    "scrolled": true
   },
   "outputs": [],
   "source": [
    "# df.toPandas().head(3)"
   ]
  },
  {
   "cell_type": "code",
   "execution_count": 24,
   "metadata": {},
   "outputs": [
    {
     "name": "stdout",
     "output_type": "stream",
     "text": [
      "Total number of rows: 1119023 and total number of columns in dataset are: 24\n"
     ]
    }
   ],
   "source": [
    "# printing shape of provided data set\n",
    "print(\"Total number of rows:\",df.count() ,\"and total number of columns in dataset are:\",len(df.columns))"
   ]
  },
  {
   "cell_type": "code",
   "execution_count": 25,
   "metadata": {},
   "outputs": [
    {
     "name": "stdout",
     "output_type": "stream",
     "text": [
      "Total number of duplicate values in the data set is/are:\n",
      "+----------+\n",
      "|sum(count)|\n",
      "+----------+\n",
      "|      null|\n",
      "+----------+\n",
      "\n"
     ]
    }
   ],
   "source": [
    "import pyspark.sql.functions as funcs\n",
    "# finding total number of duplicate values in data set if any\n",
    "print('Total number of duplicate values in the data set is/are:')\n",
    "\n",
    "df.groupBy(df.columns)\\\n",
    "    .count()\\\n",
    "    .where(funcs.col('count') > 1)\\\n",
    "    .select(funcs.sum('count'))\\\n",
    "    .show()"
   ]
  },
  {
   "cell_type": "code",
   "execution_count": 26,
   "metadata": {},
   "outputs": [
    {
     "data": {
      "text/html": [
       "<div>\n",
       "<style scoped>\n",
       "    .dataframe tbody tr th:only-of-type {\n",
       "        vertical-align: middle;\n",
       "    }\n",
       "\n",
       "    .dataframe tbody tr th {\n",
       "        vertical-align: top;\n",
       "    }\n",
       "\n",
       "    .dataframe thead th {\n",
       "        text-align: right;\n",
       "    }\n",
       "</style>\n",
       "<table border=\"1\" class=\"dataframe\">\n",
       "  <thead>\n",
       "    <tr style=\"text-align: right;\">\n",
       "      <th></th>\n",
       "      <th>CustomerHash</th>\n",
       "      <th>OrderHash</th>\n",
       "      <th>Customer_Age</th>\n",
       "      <th>Gender</th>\n",
       "      <th>Account_Age</th>\n",
       "      <th>AffinityProductGender</th>\n",
       "      <th>Category_Reporting</th>\n",
       "      <th>Genre</th>\n",
       "      <th>ClientType</th>\n",
       "      <th>PartnerProgram1</th>\n",
       "      <th>PartnerProgram2</th>\n",
       "      <th>FirstOrder</th>\n",
       "      <th>Marketing_Channel</th>\n",
       "      <th>Pieces_Ordered</th>\n",
       "      <th>Pieces_Outbound</th>\n",
       "      <th>Pieces_Returns</th>\n",
       "      <th>Pieces_Fulfilled</th>\n",
       "      <th>OrderValue</th>\n",
       "      <th>Revenue_Goods</th>\n",
       "      <th>Delivery_Value</th>\n",
       "      <th>Return_Value</th>\n",
       "      <th>Discount_Total</th>\n",
       "      <th>OrderProfit</th>\n",
       "      <th>DateTimeOrder</th>\n",
       "    </tr>\n",
       "  </thead>\n",
       "  <tbody>\n",
       "    <tr>\n",
       "      <th>0</th>\n",
       "      <td>0</td>\n",
       "      <td>0</td>\n",
       "      <td>327211</td>\n",
       "      <td>0</td>\n",
       "      <td>0</td>\n",
       "      <td>0</td>\n",
       "      <td>0</td>\n",
       "      <td>0</td>\n",
       "      <td>11606</td>\n",
       "      <td>0</td>\n",
       "      <td>0</td>\n",
       "      <td>0</td>\n",
       "      <td>3</td>\n",
       "      <td>0</td>\n",
       "      <td>22253</td>\n",
       "      <td>893123</td>\n",
       "      <td>22253</td>\n",
       "      <td>0</td>\n",
       "      <td>22253</td>\n",
       "      <td>22253</td>\n",
       "      <td>893123</td>\n",
       "      <td>0</td>\n",
       "      <td>22253</td>\n",
       "      <td>0</td>\n",
       "    </tr>\n",
       "  </tbody>\n",
       "</table>\n",
       "</div>"
      ],
      "text/plain": [
       "   CustomerHash  OrderHash  Customer_Age  Gender  Account_Age  \\\n",
       "0             0          0        327211       0            0   \n",
       "\n",
       "   AffinityProductGender  Category_Reporting  Genre  ClientType  \\\n",
       "0                      0                   0      0       11606   \n",
       "\n",
       "   PartnerProgram1  PartnerProgram2  FirstOrder  Marketing_Channel  \\\n",
       "0                0                0           0                  3   \n",
       "\n",
       "   Pieces_Ordered  Pieces_Outbound  Pieces_Returns  Pieces_Fulfilled  \\\n",
       "0               0            22253          893123             22253   \n",
       "\n",
       "   OrderValue  Revenue_Goods  Delivery_Value  Return_Value  Discount_Total  \\\n",
       "0           0          22253           22253        893123               0   \n",
       "\n",
       "   OrderProfit  DateTimeOrder  \n",
       "0        22253              0  "
      ]
     },
     "execution_count": 26,
     "metadata": {},
     "output_type": "execute_result"
    }
   ],
   "source": [
    "import pyspark.sql.functions as F\n",
    "df.select([F.count(F.when(F.col(c).isNull(), c)).alias(c) for c in df.columns]).toPandas()"
   ]
  },
  {
   "cell_type": "code",
   "execution_count": 27,
   "metadata": {
    "scrolled": true
   },
   "outputs": [],
   "source": [
    "# Checking the rows where Pieces_Outbound is missing. This row represents the total number of items shipped to the customer.\n",
    "# df[df[\"Pieces_Outbound\"].isNull()].toPandas().head(3)"
   ]
  },
  {
   "cell_type": "code",
   "execution_count": 28,
   "metadata": {
    "scrolled": true
   },
   "outputs": [],
   "source": [
    "# Checking the rows where Pieces_Outbound is missing. This row represents the total number of items actually fulfilled after returns.\n",
    "# df[df[\"Pieces_Fulfilled\"].isNull()].toPandas().head(3)"
   ]
  },
  {
   "cell_type": "code",
   "execution_count": 29,
   "metadata": {
    "scrolled": true
   },
   "outputs": [],
   "source": [
    "# Checking the rows where Pieces_Outbound is missing. This row represents the fullfilled OrderValue after returns.\n",
    "# df[df[\"Revenue_Goods\"].isNull()].toPandas().head(3)"
   ]
  },
  {
   "cell_type": "code",
   "execution_count": 30,
   "metadata": {
    "scrolled": true
   },
   "outputs": [],
   "source": [
    "# Checking the rows where Pieces_Outbound is missing. This row represents the value of delivered items.\n",
    "# df[df[\"Delivery_Value\"].isNull()].toPandas().head(3)"
   ]
  },
  {
   "cell_type": "code",
   "execution_count": 31,
   "metadata": {
    "scrolled": true
   },
   "outputs": [],
   "source": [
    "# Checking the rows where OrderProfit is missing. This row represents the total profit from the order.\n",
    "# df[df[\"OrderProfit\"].isNull()].toPandas().head(3)"
   ]
  },
  {
   "cell_type": "markdown",
   "metadata": {},
   "source": [
    "From the data set we can see that their is no duplicate values but their are few missing values which we have to handle before applying our ML algorithm.   \n",
    "1) We can see that almost 80% of data is missing in Pieces_Returns and simmillarly, 80% in Return_Value.   \n",
    "2) There is 29.2% data is missing in customer age column to impute these values we will use KNNImputer considering the values are missing at random.    \n",
    "3) ClientType 1% of data is missing may be we can drop the rows where the client type is missing since we have big data set.   \n",
    "4) We have 2% missing data in Pieces_Outbound.    \n",
    "5) We have 2% missing data in Pieces_Fulfilled.    \n",
    "6) We have 2% missing data in Revenue_Goods.   \n",
    "7) We have 2% missing data in Delivery_Value.    \n",
    "8) We have 2% missing data in OrderProfit.    \n",
    "##### Assumption:    \n",
    "1) I assume that for missing values in these fields (Pieces_Returns and Return_Value) meaning that no item has been returned so if no item is returned than no return value. In this case I will mark all the missing values with zero.     \n",
    "2) For Pieces_Outbound, this column represents the total number of items shipped to the customer so missing values means no item are shipped to the customer. We will drop these rows where Pieces_Otbound is missing since some of the items were ordered in 2019. I think other features (Pieces_Fulfilled, Revenue_Godds, Deliver_Value and OrderProfit) are also dependent on this so may be after droping rows for Pieces_Outbound we may not have to impute these features so we will first drop the rows and then see again if we need any imputation."
   ]
  },
  {
   "cell_type": "code",
   "execution_count": 48,
   "metadata": {},
   "outputs": [],
   "source": [
    "# droping rows with missing values in Pieces_Outbound, Marketing_Channel, ClientType\n",
    "df1 = df.dropna(subset=['Pieces_Outbound','Marketing_Channel','ClientType'])"
   ]
  },
  {
   "cell_type": "code",
   "execution_count": 49,
   "metadata": {},
   "outputs": [],
   "source": [
    "# imputing the columns with 0 considering their is no return.\n",
    "col_impute = ['Pieces_Returns','Return_Value']\n",
    "df1 = df1.fillna({'Pieces_Returns':0,'Return_Value':0})"
   ]
  },
  {
   "cell_type": "code",
   "execution_count": 50,
   "metadata": {
    "scrolled": true
   },
   "outputs": [
    {
     "data": {
      "text/plain": [
       "[('CustomerHash', 'string'),\n",
       " ('OrderHash', 'string'),\n",
       " ('Customer_Age', 'string'),\n",
       " ('Gender', 'string'),\n",
       " ('Account_Age', 'string'),\n",
       " ('AffinityProductGender', 'string'),\n",
       " ('Category_Reporting', 'string'),\n",
       " ('Genre', 'string'),\n",
       " ('ClientType', 'string'),\n",
       " ('PartnerProgram1', 'string'),\n",
       " ('PartnerProgram2', 'string'),\n",
       " ('FirstOrder', 'string'),\n",
       " ('Marketing_Channel', 'string'),\n",
       " ('Pieces_Ordered', 'string'),\n",
       " ('Pieces_Outbound', 'string'),\n",
       " ('Pieces_Returns', 'string'),\n",
       " ('Pieces_Fulfilled', 'string'),\n",
       " ('OrderValue', 'string'),\n",
       " ('Revenue_Goods', 'string'),\n",
       " ('Delivery_Value', 'string'),\n",
       " ('Return_Value', 'string'),\n",
       " ('Discount_Total', 'string'),\n",
       " ('OrderProfit', 'string'),\n",
       " ('DateTimeOrder', 'string')]"
      ]
     },
     "execution_count": 50,
     "metadata": {},
     "output_type": "execute_result"
    }
   ],
   "source": [
    "# Checking types of features in the dataset\n",
    "df1.dtypes"
   ]
  },
  {
   "cell_type": "code",
   "execution_count": 51,
   "metadata": {},
   "outputs": [],
   "source": [
    "df1 = df1.withColumn(\"Customer_Age\",df1.Customer_Age.cast('float'))\n",
    "df1 = df1.withColumn(\"Account_Age\",df1.Account_Age.cast('float'))\n",
    "df1 = df1.withColumn(\"FirstOrder\",df1.FirstOrder.cast('float'))\n",
    "df1 = df1.withColumn(\"Pieces_Ordered\",df1.Pieces_Ordered.cast('float'))\n",
    "df1 = df1.withColumn(\"Pieces_Outbound\",df1.Pieces_Outbound.cast('float'))\n",
    "df1 = df1.withColumn(\"Pieces_Returns\",df1.Pieces_Returns.cast('float'))\n",
    "df1 = df1.withColumn(\"Pieces_Fulfilled\",df1.Pieces_Fulfilled.cast('float'))\n",
    "df1 = df1.withColumn(\"OrderValue\",df1.OrderValue.cast('float'))\n",
    "df1 = df1.withColumn(\"Revenue_Goods\",df1.Revenue_Goods.cast('float'))\n",
    "df1 = df1.withColumn(\"Delivery_Value\",df1.Delivery_Value.cast('float'))\n",
    "df1 = df1.withColumn(\"Return_Value\",df1.Return_Value.cast('float'))\n",
    "df1 = df1.withColumn(\"Discount_Total\",df1.Discount_Total.cast('float'))\n",
    "df1 = df1.withColumn(\"OrderProfit\",df1.OrderProfit.cast('float'))\n",
    "# df1 = df1.withColumn(\"DateTimeOrder\",df1.DateTimeOrder.cast('int'))"
   ]
  },
  {
   "cell_type": "code",
   "execution_count": 52,
   "metadata": {},
   "outputs": [],
   "source": [
    "df1 =df1.withColumn('DateTimeOrder',F.to_date(df1.DateTimeOrder, 'yyyy-MM-dd'))"
   ]
  },
  {
   "cell_type": "markdown",
   "metadata": {},
   "source": [
    "##### Calculating Recency, Frequency and Monetary value of the customer for customer segmentation"
   ]
  },
  {
   "cell_type": "code",
   "execution_count": 54,
   "metadata": {},
   "outputs": [],
   "source": [
    "# calculating the time difference\n",
    "date_max = df1.select(F.max('DateTimeOrder')).toPandas()\n",
    "date_max['max(DateTimeOrder)'] = pd.to_datetime(date_max['max(DateTimeOrder)'])\n",
    "current = date_max.iloc[0][0]\n",
    "df1 = df1.withColumn('Duration', F.datediff(F.lit(current), 'DateTimeOrder'))"
   ]
  },
  {
   "cell_type": "markdown",
   "metadata": {},
   "source": [
    "##### Calculating Recency"
   ]
  },
  {
   "cell_type": "code",
   "execution_count": 66,
   "metadata": {},
   "outputs": [],
   "source": [
    "recency = df1.groupBy('CustomerHash').agg(F.min('Duration').alias('Recency'))"
   ]
  },
  {
   "cell_type": "markdown",
   "metadata": {},
   "source": [
    "#### Calculating Frequency"
   ]
  },
  {
   "cell_type": "code",
   "execution_count": 72,
   "metadata": {},
   "outputs": [],
   "source": [
    "frequency = df1.groupBy('CustomerHash', 'OrderHash').count()\\\n",
    "                        .groupBy('CustomerHash')\\\n",
    "                        .agg(F.count(\"*\").alias(\"Frequency\"))"
   ]
  },
  {
   "cell_type": "markdown",
   "metadata": {},
   "source": [
    "#### Calculating Monetary value"
   ]
  },
  {
   "cell_type": "code",
   "execution_count": 73,
   "metadata": {},
   "outputs": [],
   "source": [
    "monetary = df1.groupBy('CustomerHash').agg(F.round(F.sum('Revenue_Goods'), 2).alias('Monetary'))"
   ]
  },
  {
   "cell_type": "markdown",
   "metadata": {},
   "source": [
    "#### joining RFM with the main table"
   ]
  },
  {
   "cell_type": "code",
   "execution_count": 80,
   "metadata": {},
   "outputs": [],
   "source": [
    "df1 = df1.join(frequency,'CustomerHash', how = 'inner')\\\n",
    "             .join(monetary,'CustomerHash', how = 'inner')\\\n",
    "            .join(recency,'CustomerHash',how ='inner')"
   ]
  },
  {
   "cell_type": "code",
   "execution_count": 16,
   "metadata": {},
   "outputs": [],
   "source": [
    "# droping customer id and order id as we will not be using these for our clustering\n",
    "# df1 = df1.drop('CustomerHash','OrderHash')"
   ]
  },
  {
   "cell_type": "code",
   "execution_count": 86,
   "metadata": {
    "scrolled": true
   },
   "outputs": [
    {
     "data": {
      "image/png": "[encoded data removed]",
      "text/plain": [
       "<Figure size 576x432 with 1 Axes>"
      ]
     },
     "metadata": {},
     "output_type": "display_data"
    }
   ],
   "source": [
    "# density plot with Age of customer\n",
    "sns.set_style('darkgrid')\n",
    "sns.set(rc={'figure.figsize':(8,6)})\n",
    "my_list = df1.select(F.collect_list('Customer_Age')).first()[0]\n",
    "sns.distplot(my_list, bins=30);"
   ]
  },
  {
   "cell_type": "code",
   "execution_count": 92,
   "metadata": {
    "scrolled": true
   },
   "outputs": [
    {
     "data": {
      "image/png": "[encoded data removed]",
      "text/plain": [
       "<Figure size 1440x1440 with 4 Axes>"
      ]
     },
     "metadata": {},
     "output_type": "display_data"
    }
   ],
   "source": [
    "df2 = df1.toPandas()\n",
    "# Purchase behavior in customers based on the profit generation\n",
    "# fig, (ax1, ax2,ax3,ax4) = plt.subplots(1, 2,3,4, figsize=(14, 4))\n",
    "\n",
    "fig, axes = plt.subplots(nrows=2, ncols=2)\n",
    "fig.set_size_inches(20, 20)\n",
    "\n",
    "# df2['Customer_Age'] = df2['Customer_Age'].replace({'None':np.nan}).astype(float)\n",
    "df2[\"Customer_Age\"] = df2[\"Customer_Age\"].fillna(value=df2[\"Customer_Age\"].mean())\n",
    "\n",
    "df2['Account_Age_Bins'] = pd.cut(df2['Account_Age'], bins = [5,10,15,20,25,30])\n",
    "\n",
    "# df2['Account_Age_Bins'] = pd.cut([float(str(i).replace(\" \", \"\")) for i in df2[\"Account_Age\"]],bins = [5,10,15,20,25,30])\n",
    "df2['Customer_Age_Bins'] = pd.cut(df2['Customer_Age'], bins = [0,20,40,60,80,100])\n",
    "\n",
    "# df2['Customer_Age_Bins'] = pd.cut([float(str(i).replace(\" \", \"\")) for i in df2[\"Customer_Age\"]],bins = [0,20,40,60,80,100])\n",
    "# sns.countplot(df2[int(float(df2['OrderProfit']))>50]['Account_Age_Bins'], hue=df2[int(float(df2['OrderProfit']))>50][\"Gender\"] ,ax=ax1);\n",
    "\n",
    "\n",
    "# df2['OrderProfit'] = [float(str(i).replace(\" \", \"\")) for i in df2[\"OrderProfit\"]]\n",
    "sns.countplot(df2[df2['OrderProfit']>50]['Account_Age_Bins'], hue=df2[df2['OrderProfit']>50][\"Gender\"] ,ax=axes[0,0]);\n",
    "sns.countplot(df2[df2['OrderProfit']>50]['Customer_Age_Bins'], hue=df2[df2['OrderProfit']>50][\"Gender\"] ,ax=axes[0,1]);\n",
    "sns.countplot(df2[df2['OrderProfit']>50]['Customer_Age_Bins'], hue=df2[df2['OrderProfit']>50][\"Category_Reporting\"] ,ax=axes[1,0]);\n",
    "sns.countplot(df2[df2['OrderProfit']>50]['Customer_Age_Bins'], hue=df2[df2['OrderProfit']>50][\"Genre\"] ,ax=axes[1,1]);\n",
    "\n",
    "# sns.countplot(df2[int(float(df2['OrderProfit']))>50]['Customer_Age_Bins'], hue=df2[int(float(df2['OrderProfit']))>50][\"Gender\"], ax=ax2);\n",
    "\n",
    "df2.drop(['Account_Age_Bins','Customer_Age_Bins'],inplace = True,axis =1)\n",
    "\n",
    "\n",
    "# df2.drop(['Account_Age_Bins'],inplace = True,axis =1)\n",
    "# df2.drop(['Customer_Age_Bins'],inplace = True,axis =1)"
   ]
  },
  {
   "cell_type": "code",
   "execution_count": 93,
   "metadata": {
    "scrolled": true
   },
   "outputs": [
    {
     "data": {
      "image/png": "[encoded data removed]",
      "text/plain": [
       "<Figure size 576x432 with 1 Axes>"
      ]
     },
     "metadata": {},
     "output_type": "display_data"
    }
   ],
   "source": [
    "# count plot with for categories and genre of customer\n",
    "sns.set_style('darkgrid')\n",
    "sns.set(rc={'figure.figsize':(8,6)})\n",
    "my_list = df1.select(F.collect_list('Genre')).first()[0]\n",
    "sns.countplot(y=my_list,orient='v',hue=df1.select(F.collect_list('Gender')).first()[0]);"
   ]
  },
  {
   "cell_type": "code",
   "execution_count": 94,
   "metadata": {
    "scrolled": true
   },
   "outputs": [
    {
     "data": {
      "image/png": "[encoded data removed]",
      "text/plain": [
       "<Figure size 576x432 with 1 Axes>"
      ]
     },
     "metadata": {},
     "output_type": "display_data"
    }
   ],
   "source": [
    "# count plot with for categories and genre of customer\n",
    "sns.set_style('darkgrid')\n",
    "sns.set(rc={'figure.figsize':(8,6)})\n",
    "my_list = df1.select(F.collect_list('Category_Reporting')).first()[0]\n",
    "sns.countplot(y=my_list,orient='v',hue=df1.select(F.collect_list('Gender')).first()[0]);"
   ]
  },
  {
   "cell_type": "code",
   "execution_count": 95,
   "metadata": {
    "scrolled": true
   },
   "outputs": [
    {
     "name": "stdout",
     "output_type": "stream",
     "text": [
      "+---------+\n",
      "|   Gender|\n",
      "+---------+\n",
      "|      Man|\n",
      "|Undefined|\n",
      "|    Woman|\n",
      "+---------+\n",
      "\n",
      "+---------------------+\n",
      "|AffinityProductGender|\n",
      "+---------------------+\n",
      "|               Female|\n",
      "|                 Male|\n",
      "|               Unisex|\n",
      "+---------------------+\n",
      "\n",
      "+--------------------+\n",
      "|  Category_Reporting|\n",
      "+--------------------+\n",
      "|            Freebies|\n",
      "| Music - Accessories|\n",
      "|Gaming - Accessories|\n",
      "|Funshirts&Hoodies...|\n",
      "|               Media|\n",
      "|Entertainment - A...|\n",
      "|    Gaming - Apparel|\n",
      "|Entertainment - A...|\n",
      "|Fashion / Private...|\n",
      "|Fashion - Accesso...|\n",
      "|          Warner D2C|\n",
      "|     Music - Apparel|\n",
      "|      BSC Membership|\n",
      "|Fashion / 3rd Par...|\n",
      "+--------------------+\n",
      "\n",
      "+--------------------+\n",
      "|               Genre|\n",
      "+--------------------+\n",
      "| Merchandise - Other|\n",
      "|   Merchandise - Fun|\n",
      "|       Private label|\n",
      "|               Other|\n",
      "| Merchandise - Games|\n",
      "|Merchandise - Fil...|\n",
      "| Merchandise - Music|\n",
      "|          Warner D2C|\n",
      "|    3rd Party Brands|\n",
      "+--------------------+\n",
      "\n",
      "+----------+\n",
      "|ClientType|\n",
      "+----------+\n",
      "|   desktop|\n",
      "|    mobile|\n",
      "|       app|\n",
      "+----------+\n",
      "\n",
      "+---------------+\n",
      "|PartnerProgram1|\n",
      "+---------------+\n",
      "|             No|\n",
      "|            Yes|\n",
      "+---------------+\n",
      "\n",
      "+---------------+\n",
      "|PartnerProgram2|\n",
      "+---------------+\n",
      "|             No|\n",
      "|            Yes|\n",
      "+---------------+\n",
      "\n",
      "+------------------+\n",
      "| Marketing_Channel|\n",
      "+------------------+\n",
      "|      social media|\n",
      "|       affiliating|\n",
      "|          referrer|\n",
      "|        newsletter|\n",
      "|           unknown|\n",
      "|           display|\n",
      "|            direct|\n",
      "|                mc|\n",
      "|   social referrer|\n",
      "|               pla|\n",
      "|           Payback|\n",
      "|      marketplaces|\n",
      "|               seo|\n",
      "|        social ads|\n",
      "|   partner program|\n",
      "|      sea nonbrand|\n",
      "|other om campaigns|\n",
      "|         sea brand|\n",
      "|       retargeting|\n",
      "+------------------+\n",
      "\n"
     ]
    }
   ],
   "source": [
    "df1.select(\"Gender\").distinct().show()\n",
    "df1.select(\"AffinityProductGender\").distinct().show()\n",
    "df1.select(\"Category_Reporting\").distinct().show()\n",
    "df1.select(\"Genre\").distinct().show()\n",
    "df1.select(\"ClientType\").distinct().show()\n",
    "df1.select(\"PartnerProgram1\").distinct().show()\n",
    "df1.select(\"PartnerProgram2\").distinct().show()\n",
    "df1.select(\"Marketing_Channel\").distinct().show()"
   ]
  },
  {
   "cell_type": "code",
   "execution_count": 96,
   "metadata": {},
   "outputs": [],
   "source": [
    "# converting Gender from object type to int\n",
    "df1 = df1.withColumn('Gender', F.when(df1.Gender == 'Man', 1).otherwise(\n",
    "      F.when(df1.Gender == 'Woman',2).otherwise(3)\n",
    "))"
   ]
  },
  {
   "cell_type": "code",
   "execution_count": 97,
   "metadata": {},
   "outputs": [],
   "source": [
    "# converting Affinity Product Gender from object type to int\n",
    "df1 = df1.withColumn('AffinityProductGender', F.when(df1.AffinityProductGender == 'Male', 1).otherwise(\n",
    "      F.when(df1.AffinityProductGender == 'Female',2).otherwise(3)\n",
    "))"
   ]
  },
  {
   "cell_type": "code",
   "execution_count": 98,
   "metadata": {},
   "outputs": [],
   "source": [
    "# converting Category Reporting from object type to int\n",
    "df1 = df1.withColumn('Category_Reporting',\n",
    "      F.when(df1.Category_Reporting == 'Fashion / Private label - Apparel', 1)\n",
    "      .otherwise(\n",
    "      F.when(df1.Category_Reporting == 'Warner D2C', 2).otherwise(\n",
    "      F.when(df1.Category_Reporting == 'BSC Membership', 3).otherwise(\n",
    "      F.when(df1.Category_Reporting == 'Entertainment - Apparel', 4).otherwise(\n",
    "      F.when(df1.Category_Reporting == 'Media', 5).otherwise(\n",
    "      F.when(df1.Category_Reporting == 'Funshirts&Hoodies - Apparel', 6).otherwise(\n",
    "      F.when(df1.Category_Reporting == 'Music - Apparel', 7).otherwise(\n",
    "      F.when(df1.Category_Reporting == 'Fashion - Accessories', 8).otherwise(\n",
    "      F.when(df1.Category_Reporting == 'Fashion / 3rd Party - Apparel', 9).otherwise(\n",
    "      F.when(df1.Category_Reporting == 'Entertainment - Accessories', 10).otherwise(\n",
    "      F.when(df1.Category_Reporting == 'Gaming - Accessories', 11).otherwise(\n",
    "      F.when(df1.Category_Reporting == 'Gaming - Apparel', 12).otherwise(\n",
    "      F.when(df1.Category_Reporting == 'Music - Accessories', 13).otherwise(14)\n",
    "        )))))))))))))"
   ]
  },
  {
   "cell_type": "code",
   "execution_count": 99,
   "metadata": {},
   "outputs": [],
   "source": [
    "# converting Genre from object type to int\n",
    "df1 = df1.withColumn('Genre',\n",
    "      F.when(df1.Genre == 'Private label', 1)\n",
    "      .otherwise(\n",
    "      F.when(df1.Genre == 'Warner D2C', 2).otherwise(\n",
    "      F.when(df1.Genre == 'Other', 3).otherwise(\n",
    "      F.when(df1.Genre == 'Merchandise - Film & TV', 4).otherwise(\n",
    "      F.when(df1.Genre == 'Merchandise - Music', 5).otherwise(\n",
    "      F.when(df1.Genre == 'Merchandise - Fun', 6).otherwise(\n",
    "      F.when(df1.Genre == '3rd Party Brands', 7).otherwise(\n",
    "      F.when(df1.Genre == 'Merchandise - Other', 8).otherwise(9)\n",
    "        ))))))))"
   ]
  },
  {
   "cell_type": "code",
   "execution_count": 100,
   "metadata": {},
   "outputs": [],
   "source": [
    "# # converting Affinity Product Gender from object type to int\n",
    "# df1 = df1.withColumn('ClientType', F.when(df1.ClientType == 'desktop', 1).otherwise(\n",
    "#       F.when(df1.ClientType == 'mobile',2).otherwise(3)\n",
    "# ))"
   ]
  },
  {
   "cell_type": "code",
   "execution_count": 101,
   "metadata": {},
   "outputs": [],
   "source": [
    "# converting Affinity Product Gender from object type to int\n",
    "# df1 = df1.withColumn('PartnerProgram1', F.when(df1.PartnerProgram1 == 'No', 0).otherwise(1))"
   ]
  },
  {
   "cell_type": "code",
   "execution_count": 102,
   "metadata": {},
   "outputs": [],
   "source": [
    "# converting Affinity Product Gender from object type to int\n",
    "# df1 = df1.withColumn('PartnerProgram2', F.when(df1.PartnerProgram2 == 'No', 0).otherwise(1))"
   ]
  },
  {
   "cell_type": "code",
   "execution_count": 103,
   "metadata": {},
   "outputs": [],
   "source": [
    "# converting Affinity Product Gender from object type to int\n",
    "df1 = df1.withColumn('Marketing_Channel',\n",
    "      F.when(df1.Marketing_Channel == 'direct', 1)\n",
    "      .otherwise(\n",
    "      F.when(df1.Marketing_Channel == 'seo', 2).otherwise(\n",
    "      F.when(df1.Marketing_Channel == 'newsletter', 3).otherwise(\n",
    "      F.when(df1.Marketing_Channel == 'sea nonbrand', 4).otherwise(\n",
    "      F.when(df1.Marketing_Channel == 'pla', 5).otherwise(\n",
    "      F.when(df1.Marketing_Channel == 'sea brand', 6).otherwise(\n",
    "      F.when(df1.Marketing_Channel == 'retargeting', 7).otherwise(\n",
    "      F.when(df1.Marketing_Channel == 'social media', 8).otherwise(\n",
    "      F.when(df1.Marketing_Channel == 'marketplaces', 9).otherwise(\n",
    "      F.when(df1.Marketing_Channel == 'affiliating', 10).otherwise(\n",
    "      F.when(df1.Marketing_Channel == 'social referrer', 11).otherwise(\n",
    "      F.when(df1.Marketing_Channel == 'social ads', 12).otherwise(\n",
    "      F.when(df1.Marketing_Channel == 'unknown', 13).otherwise(\n",
    "      F.when(df1.Marketing_Channel == 'referrer', 14).otherwise(\n",
    "      F.when(df1.Marketing_Channel == 'mc', 15).otherwise(\n",
    "      F.when(df1.Marketing_Channel == 'partner program', 16).otherwise(\n",
    "      F.when(df1.Marketing_Channel == 'other om campaigns', 17).otherwise(\n",
    "      F.when(df1.Marketing_Channel == 'display', 18).otherwise(19)        \n",
    "        ))))))))))))))))))"
   ]
  },
  {
   "cell_type": "code",
   "execution_count": 104,
   "metadata": {},
   "outputs": [
    {
     "data": {
      "text/html": [
       "<div>\n",
       "<style scoped>\n",
       "    .dataframe tbody tr th:only-of-type {\n",
       "        vertical-align: middle;\n",
       "    }\n",
       "\n",
       "    .dataframe tbody tr th {\n",
       "        vertical-align: top;\n",
       "    }\n",
       "\n",
       "    .dataframe thead th {\n",
       "        text-align: right;\n",
       "    }\n",
       "</style>\n",
       "<table border=\"1\" class=\"dataframe\">\n",
       "  <thead>\n",
       "    <tr style=\"text-align: right;\">\n",
       "      <th></th>\n",
       "      <th>CustomerHash</th>\n",
       "      <th>OrderHash</th>\n",
       "      <th>Customer_Age</th>\n",
       "      <th>Gender</th>\n",
       "      <th>Account_Age</th>\n",
       "      <th>AffinityProductGender</th>\n",
       "      <th>Category_Reporting</th>\n",
       "      <th>Genre</th>\n",
       "      <th>ClientType</th>\n",
       "      <th>PartnerProgram1</th>\n",
       "      <th>PartnerProgram2</th>\n",
       "      <th>FirstOrder</th>\n",
       "      <th>Marketing_Channel</th>\n",
       "      <th>Pieces_Ordered</th>\n",
       "      <th>Pieces_Outbound</th>\n",
       "      <th>Pieces_Returns</th>\n",
       "      <th>Pieces_Fulfilled</th>\n",
       "      <th>OrderValue</th>\n",
       "      <th>Revenue_Goods</th>\n",
       "      <th>Delivery_Value</th>\n",
       "      <th>Return_Value</th>\n",
       "      <th>Discount_Total</th>\n",
       "      <th>OrderProfit</th>\n",
       "      <th>DateTimeOrder</th>\n",
       "      <th>Duration</th>\n",
       "      <th>Frequency</th>\n",
       "      <th>Monetary</th>\n",
       "      <th>Recency</th>\n",
       "    </tr>\n",
       "  </thead>\n",
       "  <tbody>\n",
       "    <tr>\n",
       "      <th>0</th>\n",
       "      <td>0</td>\n",
       "      <td>0</td>\n",
       "      <td>321253</td>\n",
       "      <td>0</td>\n",
       "      <td>0</td>\n",
       "      <td>0</td>\n",
       "      <td>0</td>\n",
       "      <td>0</td>\n",
       "      <td>0</td>\n",
       "      <td>0</td>\n",
       "      <td>0</td>\n",
       "      <td>0</td>\n",
       "      <td>0</td>\n",
       "      <td>0</td>\n",
       "      <td>0</td>\n",
       "      <td>0</td>\n",
       "      <td>0</td>\n",
       "      <td>0</td>\n",
       "      <td>0</td>\n",
       "      <td>0</td>\n",
       "      <td>0</td>\n",
       "      <td>0</td>\n",
       "      <td>0</td>\n",
       "      <td>0</td>\n",
       "      <td>0</td>\n",
       "      <td>0</td>\n",
       "      <td>0</td>\n",
       "      <td>0</td>\n",
       "    </tr>\n",
       "  </tbody>\n",
       "</table>\n",
       "</div>"
      ],
      "text/plain": [
       "   CustomerHash  OrderHash  Customer_Age  Gender  Account_Age  \\\n",
       "0             0          0        321253       0            0   \n",
       "\n",
       "   AffinityProductGender  Category_Reporting  Genre  ClientType  \\\n",
       "0                      0                   0      0           0   \n",
       "\n",
       "   PartnerProgram1  PartnerProgram2  FirstOrder  Marketing_Channel  \\\n",
       "0                0                0           0                  0   \n",
       "\n",
       "   Pieces_Ordered  Pieces_Outbound  Pieces_Returns  Pieces_Fulfilled  \\\n",
       "0               0                0               0                 0   \n",
       "\n",
       "   OrderValue  Revenue_Goods  Delivery_Value  Return_Value  Discount_Total  \\\n",
       "0           0              0               0             0               0   \n",
       "\n",
       "   OrderProfit  DateTimeOrder  Duration  Frequency  Monetary  Recency  \n",
       "0            0              0         0          0         0        0  "
      ]
     },
     "execution_count": 104,
     "metadata": {},
     "output_type": "execute_result"
    }
   ],
   "source": [
    "df1.select([F.count(F.when(F.col(c).isNull(), c)).alias(c) for c in df1.columns]).toPandas()"
   ]
  },
  {
   "cell_type": "code",
   "execution_count": 105,
   "metadata": {},
   "outputs": [
    {
     "name": "stdout",
     "output_type": "stream",
     "text": [
      "<class 'list'>\n",
      "mean value of age 38.41173074913802\n"
     ]
    }
   ],
   "source": [
    "#imputing age with mean\n",
    "\n",
    "from pyspark.sql.functions import mean\n",
    "mean_val=df1.select(mean(df1.Customer_Age)).collect()\n",
    "print(type(mean_val)) #mean_val is a list row object\n",
    "print('mean value of age', mean_val[0][0])\n",
    "mean_age=mean_val[0][0]\n",
    "#now using mean_age value to fill the nulls in age column\n",
    "df1 = df1.na.fill(mean_age,subset=['Customer_Age'])"
   ]
  },
  {
   "cell_type": "code",
   "execution_count": 106,
   "metadata": {},
   "outputs": [
    {
     "data": {
      "text/html": [
       "<div>\n",
       "<style scoped>\n",
       "    .dataframe tbody tr th:only-of-type {\n",
       "        vertical-align: middle;\n",
       "    }\n",
       "\n",
       "    .dataframe tbody tr th {\n",
       "        vertical-align: top;\n",
       "    }\n",
       "\n",
       "    .dataframe thead th {\n",
       "        text-align: right;\n",
       "    }\n",
       "</style>\n",
       "<table border=\"1\" class=\"dataframe\">\n",
       "  <thead>\n",
       "    <tr style=\"text-align: right;\">\n",
       "      <th></th>\n",
       "      <th>CustomerHash</th>\n",
       "      <th>OrderHash</th>\n",
       "      <th>Customer_Age</th>\n",
       "      <th>Gender</th>\n",
       "      <th>Account_Age</th>\n",
       "      <th>AffinityProductGender</th>\n",
       "      <th>Category_Reporting</th>\n",
       "      <th>Genre</th>\n",
       "      <th>ClientType</th>\n",
       "      <th>PartnerProgram1</th>\n",
       "      <th>PartnerProgram2</th>\n",
       "      <th>FirstOrder</th>\n",
       "      <th>Marketing_Channel</th>\n",
       "      <th>Pieces_Ordered</th>\n",
       "      <th>Pieces_Outbound</th>\n",
       "      <th>Pieces_Returns</th>\n",
       "      <th>Pieces_Fulfilled</th>\n",
       "      <th>OrderValue</th>\n",
       "      <th>Revenue_Goods</th>\n",
       "      <th>Delivery_Value</th>\n",
       "      <th>Return_Value</th>\n",
       "      <th>Discount_Total</th>\n",
       "      <th>OrderProfit</th>\n",
       "      <th>DateTimeOrder</th>\n",
       "      <th>Duration</th>\n",
       "      <th>Frequency</th>\n",
       "      <th>Monetary</th>\n",
       "      <th>Recency</th>\n",
       "    </tr>\n",
       "  </thead>\n",
       "  <tbody>\n",
       "    <tr>\n",
       "      <th>0</th>\n",
       "      <td>0</td>\n",
       "      <td>0</td>\n",
       "      <td>0</td>\n",
       "      <td>0</td>\n",
       "      <td>0</td>\n",
       "      <td>0</td>\n",
       "      <td>0</td>\n",
       "      <td>0</td>\n",
       "      <td>0</td>\n",
       "      <td>0</td>\n",
       "      <td>0</td>\n",
       "      <td>0</td>\n",
       "      <td>0</td>\n",
       "      <td>0</td>\n",
       "      <td>0</td>\n",
       "      <td>0</td>\n",
       "      <td>0</td>\n",
       "      <td>0</td>\n",
       "      <td>0</td>\n",
       "      <td>0</td>\n",
       "      <td>0</td>\n",
       "      <td>0</td>\n",
       "      <td>0</td>\n",
       "      <td>0</td>\n",
       "      <td>0</td>\n",
       "      <td>0</td>\n",
       "      <td>0</td>\n",
       "      <td>0</td>\n",
       "    </tr>\n",
       "  </tbody>\n",
       "</table>\n",
       "</div>"
      ],
      "text/plain": [
       "   CustomerHash  OrderHash  Customer_Age  Gender  Account_Age  \\\n",
       "0             0          0             0       0            0   \n",
       "\n",
       "   AffinityProductGender  Category_Reporting  Genre  ClientType  \\\n",
       "0                      0                   0      0           0   \n",
       "\n",
       "   PartnerProgram1  PartnerProgram2  FirstOrder  Marketing_Channel  \\\n",
       "0                0                0           0                  0   \n",
       "\n",
       "   Pieces_Ordered  Pieces_Outbound  Pieces_Returns  Pieces_Fulfilled  \\\n",
       "0               0                0               0                 0   \n",
       "\n",
       "   OrderValue  Revenue_Goods  Delivery_Value  Return_Value  Discount_Total  \\\n",
       "0           0              0               0             0               0   \n",
       "\n",
       "   OrderProfit  DateTimeOrder  Duration  Frequency  Monetary  Recency  \n",
       "0            0              0         0          0         0        0  "
      ]
     },
     "execution_count": 106,
     "metadata": {},
     "output_type": "execute_result"
    }
   ],
   "source": [
    "df1.select([F.count(F.when(F.col(c).isNull(), c)).alias(c) for c in df1.columns]).toPandas()"
   ]
  },
  {
   "cell_type": "code",
   "execution_count": 73,
   "metadata": {},
   "outputs": [],
   "source": [
    "# df3 = df1.toPandas()\n",
    "# # Purchase behavior in customers based on the profit generation\n",
    "# fig, (ax1, ax2) = plt.subplots(1, 2, figsize=(14, 4))\n",
    "# df3['Account_Age_Bins'] = pd.cut(df3['Account_Age'], bins = [5,10,15,20,25,30])\n",
    "# df3['Customer_Age_Bins'] = pd.cut(df3['Customer_Age'], bins = [0,20,40,60,80,100])\n",
    "# sns.countplot(df3[df3['OrderProfit']>50]['Account_Age_Bins'], hue=df3[df3['OrderProfit']>50][\"Gender\"] ,ax=ax1);\n",
    "# sns.countplot(df3[df3['OrderProfit']>50]['Customer_Age_Bins'], hue=df3[df3['OrderProfit']>50][\"Gender\"], ax=ax2);\n",
    "# df3.drop(['Account_Age_Bins','Customer_Age_Bins'],inplace = True,axis =1)"
   ]
  },
  {
   "cell_type": "markdown",
   "metadata": {},
   "source": [
    "#### Kmeans Clustering"
   ]
  },
  {
   "cell_type": "code",
   "execution_count": 128,
   "metadata": {},
   "outputs": [],
   "source": [
    "from pyspark.ml.feature import VectorAssembler\n",
    "# from pyspark.ml.evaluation import ClusteringEvaluator\n",
    "vecAssembler = VectorAssembler(inputCols=['Customer_Age',\n",
    " 'Gender',\n",
    " 'Account_Age',\n",
    " 'AffinityProductGender',\n",
    " 'Category_Reporting',\n",
    " 'Genre',\n",
    " 'Pieces_Ordered',\n",
    " 'OrderValue',\n",
    " 'Delivery_Value',\n",
    " 'OrderProfit',\n",
    " 'Recency','Frequency','Monetary'], outputCol=\"vector_feature\",handleInvalid = \"skip\")\n",
    "new_df = vecAssembler.transform(df1)\n",
    "# new_df=new_df.drop('count','Total_Votes','reviewerID_index','asin_index')"
   ]
  },
  {
   "cell_type": "code",
   "execution_count": 129,
   "metadata": {},
   "outputs": [],
   "source": [
    "from pyspark.ml.feature import MinMaxScaler\n",
    "\n",
    "scaler = MinMaxScaler(inputCol=\"vector_feature\",\\\n",
    "         outputCol=\"features\")\n",
    "scalerModel =  scaler.fit(new_df)\n",
    "new_df = scalerModel.transform(new_df)"
   ]
  },
  {
   "cell_type": "code",
   "execution_count": null,
   "metadata": {},
   "outputs": [],
   "source": [
    "from pyspark.ml.clustering import KMeans\n",
    "from pyspark.ml.evaluation import ClusteringEvaluator\n",
    "\n",
    "evaluator = ClusteringEvaluator()\n",
    "\n",
    "wcss = []\n",
    "list_k1 = []\n",
    "list_k = list(range(2,15))\n",
    "for i in list_k:\n",
    "    kmeans = KMeans(maxIter = 3).setK(i).setSeed(1)\n",
    "    model_kmeans = kmeans.fit(new_df)\n",
    "    predictions = model_kmeans.transform(new_df)\n",
    "    list_k1.append(list_k)\n",
    "    wcss.append(evaluator.evaluate(predictions))\n",
    "    print(\"Silhouette Score = \" + str(wcss))\n",
    "    print(\"Value of k = \" + str(i))"
   ]
  },
  {
   "cell_type": "code",
   "execution_count": null,
   "metadata": {},
   "outputs": [],
   "source": [
    "# elbow curve\n",
    "import matplotlib.pyplot as plt\n",
    "plt.figure(figsize=(6, 6))\n",
    "plt.plot(list_k, wcss,marker = 'o')\n",
    "plt.xlabel(r'Number of clusters *k*')\n",
    "plt.ylabel('Sum of squared distance')\n",
    "plt.title('silhouette curve')\n",
    "plt.show()"
   ]
  },
  {
   "cell_type": "code",
   "execution_count": 110,
   "metadata": {},
   "outputs": [],
   "source": [
    "#kmeans algorithm\n",
    "kmeans = KMeans(maxIter = 5).setK(4).setSeed(1).setPredictionCol(\"cluster_prediction\")\n",
    "model_kmeans = kmeans.fit(new_df)"
   ]
  },
  {
   "cell_type": "code",
   "execution_count": 111,
   "metadata": {},
   "outputs": [],
   "source": [
    "df_predictions = model_kmeans.transform(new_df)"
   ]
  },
  {
   "cell_type": "code",
   "execution_count": 116,
   "metadata": {},
   "outputs": [
    {
     "name": "stdout",
     "output_type": "stream",
     "text": [
      "+------------------+------------------+------------------+------------------+\n",
      "|cluster_prediction|      avg(Recency)|     avg(Monetary)|    avg(Frequency)|\n",
      "+------------------+------------------+------------------+------------------+\n",
      "|                 0|117.66404337180832| 79.20154721400787| 2.393720344402401|\n",
      "|                 1| 85.74275337529647|364.31059717661003| 7.526466429483671|\n",
      "|                 2| 44.08308682339509| 1184.328403653537|23.988011832477035|\n",
      "|                 3|396.02899537079617| 56.61590202029492|1.3918820319445722|\n",
      "+------------------+------------------+------------------+------------------+\n",
      "\n"
     ]
    }
   ],
   "source": [
    "df_predictions.groupBy('cluster_prediction')\\\n",
    "       .agg({'Recency':'mean',\n",
    "             'Frequency': 'mean',\n",
    "             'Monetary': 'mean'} )\\\n",
    "        .sort(F.col('cluster_prediction')).show(5)"
   ]
  },
  {
   "cell_type": "markdown",
   "metadata": {},
   "source": [
    "#### Treating Clusters with different products category based on the their clusters"
   ]
  },
  {
   "cell_type": "code",
   "execution_count": 123,
   "metadata": {
    "scrolled": true
   },
   "outputs": [
    {
     "data": {
      "image/png": "[encoded data removed]",
      "text/plain": [
       "<Figure size 1440x1440 with 2 Axes>"
      ]
     },
     "metadata": {},
     "output_type": "display_data"
    }
   ],
   "source": [
    "# count plot with categories and genre of customer based on each cluster\n",
    "fig, axes = plt.subplots(nrows=1, ncols=2)\n",
    "fig.set_size_inches(20, 20)\n",
    "sns.set_style('darkgrid')\n",
    "# sns.set(rc={'figure.figsize':(8,6)})\n",
    "my_list = df_predictions.select(F.collect_list('Genre')).first()[0]\n",
    "sns.countplot(y=my_list,orient='v',hue=df_predictions.select(F.collect_list('cluster_prediction')).first()[0],ax = axes[0]);\n",
    "my_list1 = df_predictions.select(F.collect_list('Category_Reporting')).first()[0]\n",
    "sns.countplot(y=my_list1,orient='v',hue=df_predictions.select(F.collect_list('cluster_prediction')).first()[0],ax = axes[1]);"
   ]
  },
  {
   "cell_type": "markdown",
   "metadata": {},
   "source": [
    "### Time Series Plot"
   ]
  },
  {
   "cell_type": "code",
   "execution_count": null,
   "metadata": {},
   "outputs": [],
   "source": []
  },
  {
   "cell_type": "code",
   "execution_count": null,
   "metadata": {},
   "outputs": [],
   "source": []
  },
  {
   "cell_type": "code",
   "execution_count": null,
   "metadata": {},
   "outputs": [],
   "source": []
  },
  {
   "cell_type": "code",
   "execution_count": null,
   "metadata": {},
   "outputs": [],
   "source": []
  },
  {
   "cell_type": "code",
   "execution_count": null,
   "metadata": {},
   "outputs": [],
   "source": []
  },
  {
   "cell_type": "code",
   "execution_count": null,
   "metadata": {},
   "outputs": [],
   "source": []
  },
  {
   "cell_type": "code",
   "execution_count": null,
   "metadata": {},
   "outputs": [],
   "source": []
  },
  {
   "cell_type": "code",
   "execution_count": null,
   "metadata": {},
   "outputs": [],
   "source": []
  },
  {
   "cell_type": "code",
   "execution_count": null,
   "metadata": {},
   "outputs": [],
   "source": []
  },
  {
   "cell_type": "code",
   "execution_count": null,
   "metadata": {},
   "outputs": [],
   "source": []
  },
  {
   "cell_type": "code",
   "execution_count": null,
   "metadata": {},
   "outputs": [],
   "source": []
  },
  {
   "cell_type": "code",
   "execution_count": 58,
   "metadata": {},
   "outputs": [],
   "source": [
    "# # # Create some selections on this data\n",
    "\n",
    "# # filtered_by_gender_m = df1.filter(F.col('Gender') == 1).select(F.col('OrderProfit').alias('Profit_m'))\n",
    "# # filtered_by_gender_f = df1.filter(F.col('Gender') == 2).select(F.col('OrderProfit').alias('Profit_f') )                                                                            \n",
    "# filtered_by_age_50_plus = df1.filter(F.col('Customer_Age') > 50).select(F.col('OrderProfit').alias('Profit_50_plus'))\n",
    "# filtered_by_age_50_minus = df1.filter(F.col('Customer_Age') <= 50).select(F.col('OrderProfit').alias('Profit_50_minus'))                                                                             \n",
    "                                                                             \n",
    "# # # Create the plots\n",
    "    \n",
    "# fig, axes = plt.subplots(nrows=2, ncols=2)\n",
    "# fig.set_size_inches(20, 20)\n",
    "\n",
    "# # # Use the hist function to plot histograms on the Axes\n",
    "# # hist(axes[0, 0], [filtered_by_gender_m, filtered_by_gender_f], bins = 20, color=['red', 'tan'])\n",
    "# # axes[0, 0].set_title('01. Compare Genders')\n",
    "# # axes[0, 0].legend()\n",
    "\n",
    "# hist(axes[0, 1], [filtered_by_age_50_plus, filtered_by_age_50_minus], overlapping=True)\n",
    "# axes[0, 1].set_title('02. Compare Age')\n",
    "# axes[0, 1].legend()\n",
    "\n",
    "# # # Use the distplot function to plot (scaled) histograms + density plots on the Axes\n",
    "# # distplot(axes[1, 0], [filtered_by_gender_m, filtered_by_gender_f], bins=20)\n",
    "# # axes[1, 0].set_title('03. Compare distribution per gender')\n",
    "# # _= axes[1, 0].legend()\n",
    "\n",
    "# # distplot(axes[1, 1], [filtered_by_age_50_plus, filtered_by_age_50_minus], bins=20, color=['orange', 'green'])\n",
    "# # axes[1, 1].set_title('03. Compare distribution per age group')\n",
    "# # _ = axes[1, 1].legend()"
   ]
  },
  {
   "cell_type": "code",
   "execution_count": 61,
   "metadata": {},
   "outputs": [],
   "source": [
    "# # filtered_by_gender_m = df1.filter(F.col('Gender') == 1).select(F.col('OrderProfit').alias('Profit_m'))\n",
    "# # filtered_by_gender_f = df1.filter(F.col('Gender') == 2).select(F.col('OrderProfit').alias('Profit_f') )                                                                            \n",
    "\n",
    "\n",
    "# filtered_by_age_30_plus_m = df1.filter(F.col('Customer_Age') > 30).filter(F.col('Gender')==1).select(F.col('OrderProfit').alias('Profit_30_plus_m'))\n",
    "# filtered_by_age_30_plus_f = df1.filter(F.col('Customer_Age') > 30).filter(F.col('Gender')==2).select(F.col('OrderProfit').alias('Profit_30_plus_f'))\n",
    "# filtered_by_age_30_minus_m = df1.filter(F.col('Customer_Age') <= 30).filter(F.col('Gender')==1).select(F.col('OrderProfit').alias('Profit_30_minus_m'))\n",
    "# filtered_by_age_30_minus_f = df1.filter(F.col('Customer_Age') <= 30).filter(F.col('Gender')==2).select(F.col('OrderProfit').alias('Profit_30_minus'))\n",
    "\n",
    "# # filtered_by_age_50_minus = df1.filter(F.col('Customer_Age') <= 50).select(F.col('OrderProfit').alias('Profit_50_minus'))  "
   ]
  },
  {
   "cell_type": "code",
   "execution_count": 70,
   "metadata": {},
   "outputs": [],
   "source": [
    "# fig, ax = plt.subplots()\n",
    "# hist(ax, [filtered_by_age_30_plus_m,filtered_by_age_30_plus_f,filtered_by_age_30_minus_m,filtered_by_age_30_minus_f], bins = 20, color=['red','orange','green','yellow']);\n",
    "# ax.legend()"
   ]
  },
  {
   "cell_type": "code",
   "execution_count": 71,
   "metadata": {},
   "outputs": [],
   "source": [
    "# from pyspark_dist_explore import hist, distplot\n",
    "# import matplotlib.pyplot as plt\n",
    "\n",
    "# fig, ax = plt.subplots()\n",
    "# hist(ax, df1.select('Customer_Age'), bins = 20, color=['red']);"
   ]
  },
  {
   "cell_type": "code",
   "execution_count": null,
   "metadata": {},
   "outputs": [],
   "source": []
  },
  {
   "cell_type": "code",
   "execution_count": 65,
   "metadata": {},
   "outputs": [],
   "source": []
  },
  {
   "cell_type": "code",
   "execution_count": 94,
   "metadata": {},
   "outputs": [],
   "source": [
    "# # density plot with profit generated by customer\n",
    "# sns.set_style('darkgrid')\n",
    "# sns.set(rc={'figure.figsize':(8,6)})\n",
    "# my_list1 = df.select(F.collect_list('OrderProfit')).first()[0]\n",
    "# sns.distplot(my_list1, bins=300);\n",
    "# df.sort(df.department.asc(),df.state.desc()).show(truncate=False)\n",
    "# df1.select(\"OrderProfit\").distinct().show()\n"
   ]
  },
  {
   "cell_type": "code",
   "execution_count": 45,
   "metadata": {},
   "outputs": [
    {
     "name": "stdout",
     "output_type": "stream",
     "text": [
      "+----------------+\n",
      "|max(OrderProfit)|\n",
      "+----------------+\n",
      "|            1080|\n",
      "+----------------+\n",
      "\n"
     ]
    }
   ],
   "source": [
    "df1.agg(F.max(\"OrderProfit\")).show()"
   ]
  },
  {
   "cell_type": "code",
   "execution_count": null,
   "metadata": {},
   "outputs": [],
   "source": []
  },
  {
   "cell_type": "code",
   "execution_count": null,
   "metadata": {},
   "outputs": [],
   "source": []
  },
  {
   "cell_type": "code",
   "execution_count": null,
   "metadata": {},
   "outputs": [],
   "source": []
  },
  {
   "cell_type": "code",
   "execution_count": null,
   "metadata": {},
   "outputs": [],
   "source": []
  }
 ],
 "metadata": {
  "kernelspec": {
   "display_name": "Python 3",
   "language": "python",
   "name": "python3"
  },
  "language_info": {
   "codemirror_mode": {
    "name": "ipython",
    "version": 3
   },
   "file_extension": ".py",
   "mimetype": "text/x-python",
   "name": "python",
   "nbconvert_exporter": "python",
   "pygments_lexer": "ipython3",
   "version": "3.8.5"
  }
 },
 "nbformat": 4,
 "nbformat_minor": 4
}
