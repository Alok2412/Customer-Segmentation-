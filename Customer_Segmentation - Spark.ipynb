{
 "cells": [
  {
   "cell_type": "markdown",
   "metadata": {},
   "source": [
    "#### Problem Statement\n",
    "\n",
    "1) Describe the data set and eventual anomalies you find.    \n",
    "2) Which patterns do you find in the purchasing behavior of the customer?            \n",
    "3) What are the categories and genres which customers are mostly intrested in?     \n",
    "4) Split the customers in different groups based on their purchasing behavior.     \n",
    "   a) Justify your choice for adopted method(s) and model(s).                          \n",
    "   b) Describe the defined customer groups. What are the features which are driving the differentiation amongst the different groups?    \n",
    "   c) Give suggestions how the business should treat these clusters differently.        \n",
    "5) Assuming that the 'Category_Reporting' tells you the category of all the items in that order, predic:    \n",
    "   a) The number of items per category which will be ordered on a monthly basis for rest of May 2021.    \n",
    "   b) The number of returns for the rest of May 2021.      \n",
    "6) As, at this point in your analysis you are the dataset expert, suggest any ideas (initiatives, further analysis) you might have in mind which can be helpful for the business.    \n",
    "   "
   ]
  },
  {
   "cell_type": "code",
   "execution_count": 2,
   "metadata": {},
   "outputs": [],
   "source": [
    "# loading packages\n",
    "import pandas as pd\n",
    "import numpy as np\n",
    "from sklearn.impute import KNNImputer\n",
    "import math\n",
    "import matplotlib.pyplot as plt\n",
    "import seaborn as sns\n",
    "from collections import Counter\n",
    "\n",
    "\n",
    "\n",
    "from pyspark import SparkConf\n",
    "from pyspark.context import SparkContext\n",
    "from pyspark.sql import SQLContext\n",
    "from pyspark.sql import SparkSession\n",
    "\n",
    "\n",
    "spark = SparkSession \\\n",
    "    .builder \\\n",
    "    .config(\"spark.executor.cores\",\"3\")\\\n",
    "    .config(\"spark.executor.instance\",\"12\")\\\n",
    "    .config('spark.sql.shuffle.partitions',\"128\")\\\n",
    "    .config(\"spark.debug.maxToStringsFields\",\"100\")\\\n",
    "    .appName(\"Customer Segmentation\") \\\n",
    "    .getOrCreate()\n",
    "\n",
    "import warnings\n",
    "warnings.filterwarnings('ignore')\n",
    "\n",
    "pd.set_option('display.max_columns',None)"
   ]
  },
  {
   "cell_type": "code",
   "execution_count": 29,
   "metadata": {},
   "outputs": [],
   "source": [
    "# reading the data set\n",
    "df = spark.read.csv(r\"C:\\Users\\Owner\\OneDrive\\Desktop\\Python Code\\EMP Systems\\EMP_DataScientist_CS\\Data\\EMPCaseStudy_v1.csv\",header =True)"
   ]
  },
  {
   "cell_type": "code",
   "execution_count": 30,
   "metadata": {},
   "outputs": [
    {
     "name": "stdout",
     "output_type": "stream",
     "text": [
      "+--------------------+--------------------+------------+------+-----------+---------------------+--------------------+-------------+----------+---------------+---------------+----------+-----------------+--------------+---------------+--------------+----------------+----------+-------------+--------------+------------+--------------+-----------+-------------+\n",
      "|        CustomerHash|           OrderHash|Customer_Age|Gender|Account_Age|AffinityProductGender|  Category_Reporting|        Genre|ClientType|PartnerProgram1|PartnerProgram2|FirstOrder|Marketing_Channel|Pieces_Ordered|Pieces_Outbound|Pieces_Returns|Pieces_Fulfilled|OrderValue|Revenue_Goods|Delivery_Value|Return_Value|Discount_Total|OrderProfit|DateTimeOrder|\n",
      "+--------------------+--------------------+------------+------+-----------+---------------------+--------------------+-------------+----------+---------------+---------------+----------+-----------------+--------------+---------------+--------------+----------------+----------+-------------+--------------+------------+--------------+-----------+-------------+\n",
      "|0xA09E6101DF2E146...|0x8B9731CAF4EDB33...|        53.0|   Man|         10|               Female|Fashion / Private...|Private label|   desktop|             No|             No|         0|           direct|             1|            1.0|          null|             1.0|   53.2185|        53.22|         53.22|        null|       -5.5966|    32.8376|   2019-11-29|\n",
      "|0x678B7B262CE7FFE...|0xBFD162E330E8783...|        null| Woman|          0|               Unisex|          Warner D2C|   Warner D2C|    mobile|             No|             No|         1|              seo|             1|            1.0|          null|             1.0|   29.4034|         29.4|          29.4|        null|        -12.61|    17.0572|   2019-11-23|\n",
      "|0xEDC6F42832CD975...|0x5513669E48EAEB8...|        null|   Man|          0|                 Male|Fashion / Private...|Private label|    mobile|             No|             No|         0|       newsletter|             1|            1.0|          null|             1.0|    33.605|        33.61|         33.61|        null|           0.0|    17.1399|   2019-11-28|\n",
      "+--------------------+--------------------+------------+------+-----------+---------------------+--------------------+-------------+----------+---------------+---------------+----------+-----------------+--------------+---------------+--------------+----------------+----------+-------------+--------------+------------+--------------+-----------+-------------+\n",
      "only showing top 3 rows\n",
      "\n"
     ]
    }
   ],
   "source": [
    "df.show(3)"
   ]
  },
  {
   "cell_type": "code",
   "execution_count": 37,
   "metadata": {},
   "outputs": [
    {
     "name": "stdout",
     "output_type": "stream",
     "text": [
      "Total number of rows: 1119023 and total number of columns in dataset are: 24\n"
     ]
    }
   ],
   "source": [
    "# printing shape of provided data set\n",
    "print(\"Total number of rows:\",df.count() ,\"and total number of columns in dataset are:\",len(df.columns))"
   ]
  },
  {
   "cell_type": "code",
   "execution_count": 42,
   "metadata": {},
   "outputs": [
    {
     "name": "stdout",
     "output_type": "stream",
     "text": [
      "Total number of duplicate values in the data set is/are:\n",
      "+----------+\n",
      "|sum(count)|\n",
      "+----------+\n",
      "|      null|\n",
      "+----------+\n",
      "\n"
     ]
    }
   ],
   "source": [
    "import pyspark.sql.functions as funcs\n",
    "# finding total number of duplicate values in data set if any\n",
    "print('Total number of duplicate values in the data set is/are:')\n",
    "\n",
    "df.groupBy(df.columns)\\\n",
    "    .count()\\\n",
    "    .where(funcs.col('count') > 1)\\\n",
    "    .select(funcs.sum('count'))\\\n",
    "    .show()"
   ]
  },
  {
   "cell_type": "code",
   "execution_count": 43,
   "metadata": {},
   "outputs": [],
   "source": [
    "# # finding total number of duplicate values in data set if any\n",
    "# print('Total number of duplicate values in the data set is/are: {}'.format(df.duplicated().sum()))"
   ]
  },
  {
   "cell_type": "code",
   "execution_count": 49,
   "metadata": {},
   "outputs": [
    {
     "name": "stdout",
     "output_type": "stream",
     "text": [
      "+------------+---------+------------+------+-----------+---------------------+------------------+-----+----------+---------------+---------------+----------+-----------------+--------------+---------------+--------------+----------------+----------+-------------+--------------+------------+--------------+-----------+-------------+\n",
      "|CustomerHash|OrderHash|Customer_Age|Gender|Account_Age|AffinityProductGender|Category_Reporting|Genre|ClientType|PartnerProgram1|PartnerProgram2|FirstOrder|Marketing_Channel|Pieces_Ordered|Pieces_Outbound|Pieces_Returns|Pieces_Fulfilled|OrderValue|Revenue_Goods|Delivery_Value|Return_Value|Discount_Total|OrderProfit|DateTimeOrder|\n",
      "+------------+---------+------------+------+-----------+---------------------+------------------+-----+----------+---------------+---------------+----------+-----------------+--------------+---------------+--------------+----------------+----------+-------------+--------------+------------+--------------+-----------+-------------+\n",
      "|           0|        0|      327211|     0|          0|                    0|                 0|    0|     11606|              0|              0|         0|                3|             0|          22253|        893123|           22253|         0|        22253|         22253|      893123|             0|      22253|            0|\n",
      "+------------+---------+------------+------+-----------+---------------------+------------------+-----+----------+---------------+---------------+----------+-----------------+--------------+---------------+--------------+----------------+----------+-------------+--------------+------------+--------------+-----------+-------------+\n",
      "\n"
     ]
    }
   ],
   "source": [
    "import pyspark.sql.functions as F\n",
    "df.select([F.count(F.when(F.col(c).isNull(), c)).alias(c) for c in df.columns]).show()"
   ]
  },
  {
   "cell_type": "code",
   "execution_count": 50,
   "metadata": {},
   "outputs": [],
   "source": [
    "# # checking for null values in the data set\n",
    "# col = df.columns\n",
    "# for i in col:\n",
    "#     # count number of rows with missing values\n",
    "#     n_miss = df[[i]].isNull().sum()\n",
    "#     perc = n_miss / df.shape[0] * 100\n",
    "#     print('%s, Missing: %d (%.1f%%)' % (i, n_miss, perc))"
   ]
  },
  {
   "cell_type": "code",
   "execution_count": 52,
   "metadata": {
    "scrolled": true
   },
   "outputs": [
    {
     "name": "stdout",
     "output_type": "stream",
     "text": [
      "+--------------------+--------------------+------------+---------+-----------+---------------------+--------------------+--------------------+----------+---------------+---------------+----------+-----------------+--------------+---------------+--------------+----------------+----------+-------------+--------------+------------+--------------+-----------+-------------+\n",
      "|        CustomerHash|           OrderHash|Customer_Age|   Gender|Account_Age|AffinityProductGender|  Category_Reporting|               Genre|ClientType|PartnerProgram1|PartnerProgram2|FirstOrder|Marketing_Channel|Pieces_Ordered|Pieces_Outbound|Pieces_Returns|Pieces_Fulfilled|OrderValue|Revenue_Goods|Delivery_Value|Return_Value|Discount_Total|OrderProfit|DateTimeOrder|\n",
      "+--------------------+--------------------+------------+---------+-----------+---------------------+--------------------+--------------------+----------+---------------+---------------+----------+-----------------+--------------+---------------+--------------+----------------+----------+-------------+--------------+------------+--------------+-----------+-------------+\n",
      "|0xF73BB08DB3F4AF9...|0x26BDC5573C9DD36...|        50.0|    Woman|          0|               Female|     Music - Apparel| Merchandise - Music|    mobile|             No|             No|         0|     sea nonbrand|             2|           null|          null|            null|   37.7983|         null|          null|        null|           0.0|       null|   2019-11-29|\n",
      "|0x093C49137543113...|0x32EEDEAF1C25F02...|        42.0|      Man|          4|                 Male|Fashion - Accesso...|   Merchandise - Fun|      null|             No|             No|         0|          unknown|             1|           null|          null|            null|   25.2017|         null|          null|        null|           0.0|       null|   2019-11-30|\n",
      "|0x881B13322EDAD5A...|0xFB232D5DF949EAA...|        46.0|    Woman|          0|               Female|Fashion / Private...|       Private label|   desktop|             No|             No|         0|      retargeting|             2|           null|          null|            null|   33.5966|         null|          null|        null|           0.0|       null|   2019-11-17|\n",
      "|0x18A140FE14856C1...|0xD9D5BB566C60AA0...|        44.0|    Woman|          9|               Female|Fashion - Accesso...|    3rd Party Brands|       app|             No|             No|         0|           direct|             2|           null|          null|            null|   20.1513|         null|          null|        null|           0.0|       null|   2019-11-26|\n",
      "|0x006262D72C5E1A0...|0x92590690A51F928...|        43.0|Undefined|          9|               Unisex|Fashion / 3rd Par...|    3rd Party Brands|      null|             No|             No|         0|          unknown|             2|           null|          null|            null|  100.7479|         null|          null|        null|           0.0|       null|   2019-11-22|\n",
      "|0x183E089659F963C...|0x536B5A2E6706382...|        33.0|    Woman|          1|               Female|Entertainment - A...|Merchandise - Fil...|    mobile|            Yes|             No|         0|           direct|             3|           null|          null|            null|   79.8067|         null|          null|        null|      -21.0084|       null|   2019-11-25|\n",
      "|0x577B1E6B8A4C9DB...|0xFC19BD2A447F93B...|        34.0|      Man|         14|                 Male|               Media| Merchandise - Music|    mobile|            Yes|             No|         0|      retargeting|             1|           null|          null|            null|    9.2353|         null|          null|        null|           0.0|       null|   2019-11-30|\n",
      "|0xA4DA7E745B3279C...|0xACADE8A74B6E25E...|        23.0|    Woman|          1|               Female|Fashion / 3rd Par...|    3rd Party Brands|   desktop|            Yes|             No|         0|           direct|             7|           null|          null|            null|   224.311|         null|          null|        null|       -104.21|       null|   2019-11-11|\n",
      "|0xF21A7E40BC56126...|0x22365A49FE4BFA2...|        28.0|    Woman|          5|               Female|Fashion / 3rd Par...|    3rd Party Brands|    mobile|            Yes|             No|         0|      affiliating|             2|           null|          null|            null|  310.9076|         null|          null|        null|           0.0|       null|   2019-11-28|\n",
      "|0x3122F2764668208...|0x42779BB3038A5E4...|        null|      Man|          0|               Unisex| Music - Accessories| Merchandise - Music|       app|             No|             No|         0|           direct|             1|           null|          null|            null|   14.0093|         null|          null|        null|           0.0|       null|   2019-11-28|\n",
      "|0x81F8DA852F10195...|0x1C1AE01BD757278...|        47.0|    Woman|          9|               Unisex|Fashion / 3rd Par...|    3rd Party Brands|    mobile|            Yes|             No|         0|              seo|             2|           null|          null|            null|   157.126|         null|          null|        null|        -27.74|       null|   2019-11-19|\n",
      "|0x374BBF49FD4EED7...|0xCECB019EC8C7777...|        32.0|      Man|          0|               Unisex|Gaming - Accessories| Merchandise - Games|    mobile|             No|             No|         1|              pla|             1|           null|          null|            null|    9.8235|         null|          null|        null|          -1.1|       null|   2019-11-20|\n",
      "|0x2B5CE6BC6506332...|0x6D1545CF645A725...|        32.0|    Woman|          1|               Unisex|Entertainment - A...|Merchandise - Fil...|    mobile|            Yes|             No|         0|           direct|             2|           null|          null|            null|   50.4034|         null|          null|        null|          -4.2|       null|   2019-11-15|\n",
      "|0x9F6ED999060D79A...|0x0266A075277BA42...|        null|      Man|          0|               Unisex|Gaming - Accessories| Merchandise - Games|   desktop|             No|             No|         0|           direct|             1|           null|          null|            null|    6.7143|         null|          null|        null|           0.0|       null|   2019-11-11|\n",
      "|0x8E1D090DB73F1E8...|0xFC62A6D86C274F4...|        36.0|      Man|          1|                 Male|Funshirts&Hoodies...|   Merchandise - Fun|    mobile|             No|             No|         0|           direct|             1|           null|          null|            null|    5.0336|         null|          null|        null|           0.0|       null|   2019-11-19|\n",
      "|0xC96296D8C5D2DD1...|0xC2E6B8B3C476461...|        19.0|    Woman|          0|               Female|     Music - Apparel| Merchandise - Music|       app|             No|             No|         0|           direct|            13|           null|          null|            null|  362.9159|         null|          null|        null|           0.0|       null|   2019-11-23|\n",
      "|0xC3449AB67EDE9E7...|0xA23CB07BE47877F...|        26.0|    Woman|          8|               Female|Fashion / Private...|       Private label|       app|            Yes|             No|         0|           direct|             1|           null|          null|            null|   16.7983|         null|          null|        null|         -16.8|       null|   2019-11-22|\n",
      "|0x84C3BACB7B29EF4...|0x64BE9FB1701AC60...|        36.0|      Man|         14|               Female|Fashion / 3rd Par...|    3rd Party Brands|      null|             No|             No|         0|          unknown|             3|           null|          null|            null|   41.9917|         null|          null|        null|         -16.8|       null|   2019-11-22|\n",
      "|0x2B7117870D38B21...|0x371A0930188AB4F...|        null|Undefined|         12|                 Male|               Media| Merchandise - Music|       app|            Yes|             No|         0|           direct|             1|           null|          null|            null|    18.479|         null|          null|        null|           0.0|       null|   2019-11-29|\n",
      "|0x842B06BFA117908...|0xC0FBFB2F6453221...|        27.0|      Man|          8|                 Male|               Media| Merchandise - Music|       app|            Yes|             No|         0|           direct|             1|           null|          null|            null|      21.0|         null|          null|        null|           0.0|       null|   2019-11-17|\n",
      "+--------------------+--------------------+------------+---------+-----------+---------------------+--------------------+--------------------+----------+---------------+---------------+----------+-----------------+--------------+---------------+--------------+----------------+----------+-------------+--------------+------------+--------------+-----------+-------------+\n",
      "only showing top 20 rows\n",
      "\n"
     ]
    }
   ],
   "source": [
    "# Checking the rows where Pieces_Outbound is missing. This row represents the total number of items shipped to the customer.\n",
    "df[df[\"Pieces_Outbound\"].isNull()].show()"
   ]
  },
  {
   "cell_type": "code",
   "execution_count": 53,
   "metadata": {
    "scrolled": true
   },
   "outputs": [
    {
     "name": "stdout",
     "output_type": "stream",
     "text": [
      "+--------------------+--------------------+------------+---------+-----------+---------------------+--------------------+--------------------+----------+---------------+---------------+----------+-----------------+--------------+---------------+--------------+----------------+----------+-------------+--------------+------------+--------------+-----------+-------------+\n",
      "|        CustomerHash|           OrderHash|Customer_Age|   Gender|Account_Age|AffinityProductGender|  Category_Reporting|               Genre|ClientType|PartnerProgram1|PartnerProgram2|FirstOrder|Marketing_Channel|Pieces_Ordered|Pieces_Outbound|Pieces_Returns|Pieces_Fulfilled|OrderValue|Revenue_Goods|Delivery_Value|Return_Value|Discount_Total|OrderProfit|DateTimeOrder|\n",
      "+--------------------+--------------------+------------+---------+-----------+---------------------+--------------------+--------------------+----------+---------------+---------------+----------+-----------------+--------------+---------------+--------------+----------------+----------+-------------+--------------+------------+--------------+-----------+-------------+\n",
      "|0xF73BB08DB3F4AF9...|0x26BDC5573C9DD36...|        50.0|    Woman|          0|               Female|     Music - Apparel| Merchandise - Music|    mobile|             No|             No|         0|     sea nonbrand|             2|           null|          null|            null|   37.7983|         null|          null|        null|           0.0|       null|   2019-11-29|\n",
      "|0x093C49137543113...|0x32EEDEAF1C25F02...|        42.0|      Man|          4|                 Male|Fashion - Accesso...|   Merchandise - Fun|      null|             No|             No|         0|          unknown|             1|           null|          null|            null|   25.2017|         null|          null|        null|           0.0|       null|   2019-11-30|\n",
      "|0x881B13322EDAD5A...|0xFB232D5DF949EAA...|        46.0|    Woman|          0|               Female|Fashion / Private...|       Private label|   desktop|             No|             No|         0|      retargeting|             2|           null|          null|            null|   33.5966|         null|          null|        null|           0.0|       null|   2019-11-17|\n",
      "|0x18A140FE14856C1...|0xD9D5BB566C60AA0...|        44.0|    Woman|          9|               Female|Fashion - Accesso...|    3rd Party Brands|       app|             No|             No|         0|           direct|             2|           null|          null|            null|   20.1513|         null|          null|        null|           0.0|       null|   2019-11-26|\n",
      "|0x006262D72C5E1A0...|0x92590690A51F928...|        43.0|Undefined|          9|               Unisex|Fashion / 3rd Par...|    3rd Party Brands|      null|             No|             No|         0|          unknown|             2|           null|          null|            null|  100.7479|         null|          null|        null|           0.0|       null|   2019-11-22|\n",
      "|0x183E089659F963C...|0x536B5A2E6706382...|        33.0|    Woman|          1|               Female|Entertainment - A...|Merchandise - Fil...|    mobile|            Yes|             No|         0|           direct|             3|           null|          null|            null|   79.8067|         null|          null|        null|      -21.0084|       null|   2019-11-25|\n",
      "|0x577B1E6B8A4C9DB...|0xFC19BD2A447F93B...|        34.0|      Man|         14|                 Male|               Media| Merchandise - Music|    mobile|            Yes|             No|         0|      retargeting|             1|           null|          null|            null|    9.2353|         null|          null|        null|           0.0|       null|   2019-11-30|\n",
      "|0xA4DA7E745B3279C...|0xACADE8A74B6E25E...|        23.0|    Woman|          1|               Female|Fashion / 3rd Par...|    3rd Party Brands|   desktop|            Yes|             No|         0|           direct|             7|           null|          null|            null|   224.311|         null|          null|        null|       -104.21|       null|   2019-11-11|\n",
      "|0xF21A7E40BC56126...|0x22365A49FE4BFA2...|        28.0|    Woman|          5|               Female|Fashion / 3rd Par...|    3rd Party Brands|    mobile|            Yes|             No|         0|      affiliating|             2|           null|          null|            null|  310.9076|         null|          null|        null|           0.0|       null|   2019-11-28|\n",
      "|0x3122F2764668208...|0x42779BB3038A5E4...|        null|      Man|          0|               Unisex| Music - Accessories| Merchandise - Music|       app|             No|             No|         0|           direct|             1|           null|          null|            null|   14.0093|         null|          null|        null|           0.0|       null|   2019-11-28|\n",
      "|0x81F8DA852F10195...|0x1C1AE01BD757278...|        47.0|    Woman|          9|               Unisex|Fashion / 3rd Par...|    3rd Party Brands|    mobile|            Yes|             No|         0|              seo|             2|           null|          null|            null|   157.126|         null|          null|        null|        -27.74|       null|   2019-11-19|\n",
      "|0x374BBF49FD4EED7...|0xCECB019EC8C7777...|        32.0|      Man|          0|               Unisex|Gaming - Accessories| Merchandise - Games|    mobile|             No|             No|         1|              pla|             1|           null|          null|            null|    9.8235|         null|          null|        null|          -1.1|       null|   2019-11-20|\n",
      "|0x2B5CE6BC6506332...|0x6D1545CF645A725...|        32.0|    Woman|          1|               Unisex|Entertainment - A...|Merchandise - Fil...|    mobile|            Yes|             No|         0|           direct|             2|           null|          null|            null|   50.4034|         null|          null|        null|          -4.2|       null|   2019-11-15|\n",
      "|0x9F6ED999060D79A...|0x0266A075277BA42...|        null|      Man|          0|               Unisex|Gaming - Accessories| Merchandise - Games|   desktop|             No|             No|         0|           direct|             1|           null|          null|            null|    6.7143|         null|          null|        null|           0.0|       null|   2019-11-11|\n",
      "|0x8E1D090DB73F1E8...|0xFC62A6D86C274F4...|        36.0|      Man|          1|                 Male|Funshirts&Hoodies...|   Merchandise - Fun|    mobile|             No|             No|         0|           direct|             1|           null|          null|            null|    5.0336|         null|          null|        null|           0.0|       null|   2019-11-19|\n",
      "|0xC96296D8C5D2DD1...|0xC2E6B8B3C476461...|        19.0|    Woman|          0|               Female|     Music - Apparel| Merchandise - Music|       app|             No|             No|         0|           direct|            13|           null|          null|            null|  362.9159|         null|          null|        null|           0.0|       null|   2019-11-23|\n",
      "|0xC3449AB67EDE9E7...|0xA23CB07BE47877F...|        26.0|    Woman|          8|               Female|Fashion / Private...|       Private label|       app|            Yes|             No|         0|           direct|             1|           null|          null|            null|   16.7983|         null|          null|        null|         -16.8|       null|   2019-11-22|\n",
      "|0x84C3BACB7B29EF4...|0x64BE9FB1701AC60...|        36.0|      Man|         14|               Female|Fashion / 3rd Par...|    3rd Party Brands|      null|             No|             No|         0|          unknown|             3|           null|          null|            null|   41.9917|         null|          null|        null|         -16.8|       null|   2019-11-22|\n",
      "|0x2B7117870D38B21...|0x371A0930188AB4F...|        null|Undefined|         12|                 Male|               Media| Merchandise - Music|       app|            Yes|             No|         0|           direct|             1|           null|          null|            null|    18.479|         null|          null|        null|           0.0|       null|   2019-11-29|\n",
      "|0x842B06BFA117908...|0xC0FBFB2F6453221...|        27.0|      Man|          8|                 Male|               Media| Merchandise - Music|       app|            Yes|             No|         0|           direct|             1|           null|          null|            null|      21.0|         null|          null|        null|           0.0|       null|   2019-11-17|\n",
      "+--------------------+--------------------+------------+---------+-----------+---------------------+--------------------+--------------------+----------+---------------+---------------+----------+-----------------+--------------+---------------+--------------+----------------+----------+-------------+--------------+------------+--------------+-----------+-------------+\n",
      "only showing top 20 rows\n",
      "\n"
     ]
    }
   ],
   "source": [
    "# Checking the rows where Pieces_Outbound is missing. This row represents the total number of items actually fulfilled after returns.\n",
    "df[df[\"Pieces_Fulfilled\"].isNull()].show()"
   ]
  },
  {
   "cell_type": "code",
   "execution_count": 54,
   "metadata": {
    "scrolled": true
   },
   "outputs": [
    {
     "name": "stdout",
     "output_type": "stream",
     "text": [
      "+--------------------+--------------------+------------+---------+-----------+---------------------+--------------------+--------------------+----------+---------------+---------------+----------+-----------------+--------------+---------------+--------------+----------------+----------+-------------+--------------+------------+--------------+-----------+-------------+\n",
      "|        CustomerHash|           OrderHash|Customer_Age|   Gender|Account_Age|AffinityProductGender|  Category_Reporting|               Genre|ClientType|PartnerProgram1|PartnerProgram2|FirstOrder|Marketing_Channel|Pieces_Ordered|Pieces_Outbound|Pieces_Returns|Pieces_Fulfilled|OrderValue|Revenue_Goods|Delivery_Value|Return_Value|Discount_Total|OrderProfit|DateTimeOrder|\n",
      "+--------------------+--------------------+------------+---------+-----------+---------------------+--------------------+--------------------+----------+---------------+---------------+----------+-----------------+--------------+---------------+--------------+----------------+----------+-------------+--------------+------------+--------------+-----------+-------------+\n",
      "|0xF73BB08DB3F4AF9...|0x26BDC5573C9DD36...|        50.0|    Woman|          0|               Female|     Music - Apparel| Merchandise - Music|    mobile|             No|             No|         0|     sea nonbrand|             2|           null|          null|            null|   37.7983|         null|          null|        null|           0.0|       null|   2019-11-29|\n",
      "|0x093C49137543113...|0x32EEDEAF1C25F02...|        42.0|      Man|          4|                 Male|Fashion - Accesso...|   Merchandise - Fun|      null|             No|             No|         0|          unknown|             1|           null|          null|            null|   25.2017|         null|          null|        null|           0.0|       null|   2019-11-30|\n",
      "|0x881B13322EDAD5A...|0xFB232D5DF949EAA...|        46.0|    Woman|          0|               Female|Fashion / Private...|       Private label|   desktop|             No|             No|         0|      retargeting|             2|           null|          null|            null|   33.5966|         null|          null|        null|           0.0|       null|   2019-11-17|\n",
      "|0x18A140FE14856C1...|0xD9D5BB566C60AA0...|        44.0|    Woman|          9|               Female|Fashion - Accesso...|    3rd Party Brands|       app|             No|             No|         0|           direct|             2|           null|          null|            null|   20.1513|         null|          null|        null|           0.0|       null|   2019-11-26|\n",
      "|0x006262D72C5E1A0...|0x92590690A51F928...|        43.0|Undefined|          9|               Unisex|Fashion / 3rd Par...|    3rd Party Brands|      null|             No|             No|         0|          unknown|             2|           null|          null|            null|  100.7479|         null|          null|        null|           0.0|       null|   2019-11-22|\n",
      "|0x183E089659F963C...|0x536B5A2E6706382...|        33.0|    Woman|          1|               Female|Entertainment - A...|Merchandise - Fil...|    mobile|            Yes|             No|         0|           direct|             3|           null|          null|            null|   79.8067|         null|          null|        null|      -21.0084|       null|   2019-11-25|\n",
      "|0x577B1E6B8A4C9DB...|0xFC19BD2A447F93B...|        34.0|      Man|         14|                 Male|               Media| Merchandise - Music|    mobile|            Yes|             No|         0|      retargeting|             1|           null|          null|            null|    9.2353|         null|          null|        null|           0.0|       null|   2019-11-30|\n",
      "|0xA4DA7E745B3279C...|0xACADE8A74B6E25E...|        23.0|    Woman|          1|               Female|Fashion / 3rd Par...|    3rd Party Brands|   desktop|            Yes|             No|         0|           direct|             7|           null|          null|            null|   224.311|         null|          null|        null|       -104.21|       null|   2019-11-11|\n",
      "|0xF21A7E40BC56126...|0x22365A49FE4BFA2...|        28.0|    Woman|          5|               Female|Fashion / 3rd Par...|    3rd Party Brands|    mobile|            Yes|             No|         0|      affiliating|             2|           null|          null|            null|  310.9076|         null|          null|        null|           0.0|       null|   2019-11-28|\n",
      "|0x3122F2764668208...|0x42779BB3038A5E4...|        null|      Man|          0|               Unisex| Music - Accessories| Merchandise - Music|       app|             No|             No|         0|           direct|             1|           null|          null|            null|   14.0093|         null|          null|        null|           0.0|       null|   2019-11-28|\n",
      "|0x81F8DA852F10195...|0x1C1AE01BD757278...|        47.0|    Woman|          9|               Unisex|Fashion / 3rd Par...|    3rd Party Brands|    mobile|            Yes|             No|         0|              seo|             2|           null|          null|            null|   157.126|         null|          null|        null|        -27.74|       null|   2019-11-19|\n",
      "|0x374BBF49FD4EED7...|0xCECB019EC8C7777...|        32.0|      Man|          0|               Unisex|Gaming - Accessories| Merchandise - Games|    mobile|             No|             No|         1|              pla|             1|           null|          null|            null|    9.8235|         null|          null|        null|          -1.1|       null|   2019-11-20|\n",
      "|0x2B5CE6BC6506332...|0x6D1545CF645A725...|        32.0|    Woman|          1|               Unisex|Entertainment - A...|Merchandise - Fil...|    mobile|            Yes|             No|         0|           direct|             2|           null|          null|            null|   50.4034|         null|          null|        null|          -4.2|       null|   2019-11-15|\n",
      "|0x9F6ED999060D79A...|0x0266A075277BA42...|        null|      Man|          0|               Unisex|Gaming - Accessories| Merchandise - Games|   desktop|             No|             No|         0|           direct|             1|           null|          null|            null|    6.7143|         null|          null|        null|           0.0|       null|   2019-11-11|\n",
      "|0x8E1D090DB73F1E8...|0xFC62A6D86C274F4...|        36.0|      Man|          1|                 Male|Funshirts&Hoodies...|   Merchandise - Fun|    mobile|             No|             No|         0|           direct|             1|           null|          null|            null|    5.0336|         null|          null|        null|           0.0|       null|   2019-11-19|\n",
      "|0xC96296D8C5D2DD1...|0xC2E6B8B3C476461...|        19.0|    Woman|          0|               Female|     Music - Apparel| Merchandise - Music|       app|             No|             No|         0|           direct|            13|           null|          null|            null|  362.9159|         null|          null|        null|           0.0|       null|   2019-11-23|\n",
      "|0xC3449AB67EDE9E7...|0xA23CB07BE47877F...|        26.0|    Woman|          8|               Female|Fashion / Private...|       Private label|       app|            Yes|             No|         0|           direct|             1|           null|          null|            null|   16.7983|         null|          null|        null|         -16.8|       null|   2019-11-22|\n",
      "|0x84C3BACB7B29EF4...|0x64BE9FB1701AC60...|        36.0|      Man|         14|               Female|Fashion / 3rd Par...|    3rd Party Brands|      null|             No|             No|         0|          unknown|             3|           null|          null|            null|   41.9917|         null|          null|        null|         -16.8|       null|   2019-11-22|\n",
      "|0x2B7117870D38B21...|0x371A0930188AB4F...|        null|Undefined|         12|                 Male|               Media| Merchandise - Music|       app|            Yes|             No|         0|           direct|             1|           null|          null|            null|    18.479|         null|          null|        null|           0.0|       null|   2019-11-29|\n",
      "|0x842B06BFA117908...|0xC0FBFB2F6453221...|        27.0|      Man|          8|                 Male|               Media| Merchandise - Music|       app|            Yes|             No|         0|           direct|             1|           null|          null|            null|      21.0|         null|          null|        null|           0.0|       null|   2019-11-17|\n",
      "+--------------------+--------------------+------------+---------+-----------+---------------------+--------------------+--------------------+----------+---------------+---------------+----------+-----------------+--------------+---------------+--------------+----------------+----------+-------------+--------------+------------+--------------+-----------+-------------+\n",
      "only showing top 20 rows\n",
      "\n"
     ]
    }
   ],
   "source": [
    "# Checking the rows where Pieces_Outbound is missing. This row represents the fullfilled OrderValue after returns.\n",
    "df[df[\"Revenue_Goods\"].isNull()].show()"
   ]
  },
  {
   "cell_type": "code",
   "execution_count": 55,
   "metadata": {
    "scrolled": true
   },
   "outputs": [
    {
     "name": "stdout",
     "output_type": "stream",
     "text": [
      "+--------------------+--------------------+------------+---------+-----------+---------------------+--------------------+--------------------+----------+---------------+---------------+----------+-----------------+--------------+---------------+--------------+----------------+----------+-------------+--------------+------------+--------------+-----------+-------------+\n",
      "|        CustomerHash|           OrderHash|Customer_Age|   Gender|Account_Age|AffinityProductGender|  Category_Reporting|               Genre|ClientType|PartnerProgram1|PartnerProgram2|FirstOrder|Marketing_Channel|Pieces_Ordered|Pieces_Outbound|Pieces_Returns|Pieces_Fulfilled|OrderValue|Revenue_Goods|Delivery_Value|Return_Value|Discount_Total|OrderProfit|DateTimeOrder|\n",
      "+--------------------+--------------------+------------+---------+-----------+---------------------+--------------------+--------------------+----------+---------------+---------------+----------+-----------------+--------------+---------------+--------------+----------------+----------+-------------+--------------+------------+--------------+-----------+-------------+\n",
      "|0xF73BB08DB3F4AF9...|0x26BDC5573C9DD36...|        50.0|    Woman|          0|               Female|     Music - Apparel| Merchandise - Music|    mobile|             No|             No|         0|     sea nonbrand|             2|           null|          null|            null|   37.7983|         null|          null|        null|           0.0|       null|   2019-11-29|\n",
      "|0x093C49137543113...|0x32EEDEAF1C25F02...|        42.0|      Man|          4|                 Male|Fashion - Accesso...|   Merchandise - Fun|      null|             No|             No|         0|          unknown|             1|           null|          null|            null|   25.2017|         null|          null|        null|           0.0|       null|   2019-11-30|\n",
      "|0x881B13322EDAD5A...|0xFB232D5DF949EAA...|        46.0|    Woman|          0|               Female|Fashion / Private...|       Private label|   desktop|             No|             No|         0|      retargeting|             2|           null|          null|            null|   33.5966|         null|          null|        null|           0.0|       null|   2019-11-17|\n",
      "|0x18A140FE14856C1...|0xD9D5BB566C60AA0...|        44.0|    Woman|          9|               Female|Fashion - Accesso...|    3rd Party Brands|       app|             No|             No|         0|           direct|             2|           null|          null|            null|   20.1513|         null|          null|        null|           0.0|       null|   2019-11-26|\n",
      "|0x006262D72C5E1A0...|0x92590690A51F928...|        43.0|Undefined|          9|               Unisex|Fashion / 3rd Par...|    3rd Party Brands|      null|             No|             No|         0|          unknown|             2|           null|          null|            null|  100.7479|         null|          null|        null|           0.0|       null|   2019-11-22|\n",
      "|0x183E089659F963C...|0x536B5A2E6706382...|        33.0|    Woman|          1|               Female|Entertainment - A...|Merchandise - Fil...|    mobile|            Yes|             No|         0|           direct|             3|           null|          null|            null|   79.8067|         null|          null|        null|      -21.0084|       null|   2019-11-25|\n",
      "|0x577B1E6B8A4C9DB...|0xFC19BD2A447F93B...|        34.0|      Man|         14|                 Male|               Media| Merchandise - Music|    mobile|            Yes|             No|         0|      retargeting|             1|           null|          null|            null|    9.2353|         null|          null|        null|           0.0|       null|   2019-11-30|\n",
      "|0xA4DA7E745B3279C...|0xACADE8A74B6E25E...|        23.0|    Woman|          1|               Female|Fashion / 3rd Par...|    3rd Party Brands|   desktop|            Yes|             No|         0|           direct|             7|           null|          null|            null|   224.311|         null|          null|        null|       -104.21|       null|   2019-11-11|\n",
      "|0xF21A7E40BC56126...|0x22365A49FE4BFA2...|        28.0|    Woman|          5|               Female|Fashion / 3rd Par...|    3rd Party Brands|    mobile|            Yes|             No|         0|      affiliating|             2|           null|          null|            null|  310.9076|         null|          null|        null|           0.0|       null|   2019-11-28|\n",
      "|0x3122F2764668208...|0x42779BB3038A5E4...|        null|      Man|          0|               Unisex| Music - Accessories| Merchandise - Music|       app|             No|             No|         0|           direct|             1|           null|          null|            null|   14.0093|         null|          null|        null|           0.0|       null|   2019-11-28|\n",
      "|0x81F8DA852F10195...|0x1C1AE01BD757278...|        47.0|    Woman|          9|               Unisex|Fashion / 3rd Par...|    3rd Party Brands|    mobile|            Yes|             No|         0|              seo|             2|           null|          null|            null|   157.126|         null|          null|        null|        -27.74|       null|   2019-11-19|\n",
      "|0x374BBF49FD4EED7...|0xCECB019EC8C7777...|        32.0|      Man|          0|               Unisex|Gaming - Accessories| Merchandise - Games|    mobile|             No|             No|         1|              pla|             1|           null|          null|            null|    9.8235|         null|          null|        null|          -1.1|       null|   2019-11-20|\n",
      "|0x2B5CE6BC6506332...|0x6D1545CF645A725...|        32.0|    Woman|          1|               Unisex|Entertainment - A...|Merchandise - Fil...|    mobile|            Yes|             No|         0|           direct|             2|           null|          null|            null|   50.4034|         null|          null|        null|          -4.2|       null|   2019-11-15|\n",
      "|0x9F6ED999060D79A...|0x0266A075277BA42...|        null|      Man|          0|               Unisex|Gaming - Accessories| Merchandise - Games|   desktop|             No|             No|         0|           direct|             1|           null|          null|            null|    6.7143|         null|          null|        null|           0.0|       null|   2019-11-11|\n",
      "|0x8E1D090DB73F1E8...|0xFC62A6D86C274F4...|        36.0|      Man|          1|                 Male|Funshirts&Hoodies...|   Merchandise - Fun|    mobile|             No|             No|         0|           direct|             1|           null|          null|            null|    5.0336|         null|          null|        null|           0.0|       null|   2019-11-19|\n",
      "|0xC96296D8C5D2DD1...|0xC2E6B8B3C476461...|        19.0|    Woman|          0|               Female|     Music - Apparel| Merchandise - Music|       app|             No|             No|         0|           direct|            13|           null|          null|            null|  362.9159|         null|          null|        null|           0.0|       null|   2019-11-23|\n",
      "|0xC3449AB67EDE9E7...|0xA23CB07BE47877F...|        26.0|    Woman|          8|               Female|Fashion / Private...|       Private label|       app|            Yes|             No|         0|           direct|             1|           null|          null|            null|   16.7983|         null|          null|        null|         -16.8|       null|   2019-11-22|\n",
      "|0x84C3BACB7B29EF4...|0x64BE9FB1701AC60...|        36.0|      Man|         14|               Female|Fashion / 3rd Par...|    3rd Party Brands|      null|             No|             No|         0|          unknown|             3|           null|          null|            null|   41.9917|         null|          null|        null|         -16.8|       null|   2019-11-22|\n",
      "|0x2B7117870D38B21...|0x371A0930188AB4F...|        null|Undefined|         12|                 Male|               Media| Merchandise - Music|       app|            Yes|             No|         0|           direct|             1|           null|          null|            null|    18.479|         null|          null|        null|           0.0|       null|   2019-11-29|\n",
      "|0x842B06BFA117908...|0xC0FBFB2F6453221...|        27.0|      Man|          8|                 Male|               Media| Merchandise - Music|       app|            Yes|             No|         0|           direct|             1|           null|          null|            null|      21.0|         null|          null|        null|           0.0|       null|   2019-11-17|\n",
      "+--------------------+--------------------+------------+---------+-----------+---------------------+--------------------+--------------------+----------+---------------+---------------+----------+-----------------+--------------+---------------+--------------+----------------+----------+-------------+--------------+------------+--------------+-----------+-------------+\n",
      "only showing top 20 rows\n",
      "\n"
     ]
    }
   ],
   "source": [
    "# Checking the rows where Pieces_Outbound is missing. This row represents the value of delivered items.\n",
    "df[df[\"Delivery_Value\"].isNull()].show()"
   ]
  },
  {
   "cell_type": "code",
   "execution_count": 56,
   "metadata": {
    "scrolled": true
   },
   "outputs": [
    {
     "name": "stdout",
     "output_type": "stream",
     "text": [
      "+--------------------+--------------------+------------+---------+-----------+---------------------+--------------------+--------------------+----------+---------------+---------------+----------+-----------------+--------------+---------------+--------------+----------------+----------+-------------+--------------+------------+--------------+-----------+-------------+\n",
      "|        CustomerHash|           OrderHash|Customer_Age|   Gender|Account_Age|AffinityProductGender|  Category_Reporting|               Genre|ClientType|PartnerProgram1|PartnerProgram2|FirstOrder|Marketing_Channel|Pieces_Ordered|Pieces_Outbound|Pieces_Returns|Pieces_Fulfilled|OrderValue|Revenue_Goods|Delivery_Value|Return_Value|Discount_Total|OrderProfit|DateTimeOrder|\n",
      "+--------------------+--------------------+------------+---------+-----------+---------------------+--------------------+--------------------+----------+---------------+---------------+----------+-----------------+--------------+---------------+--------------+----------------+----------+-------------+--------------+------------+--------------+-----------+-------------+\n",
      "|0xF73BB08DB3F4AF9...|0x26BDC5573C9DD36...|        50.0|    Woman|          0|               Female|     Music - Apparel| Merchandise - Music|    mobile|             No|             No|         0|     sea nonbrand|             2|           null|          null|            null|   37.7983|         null|          null|        null|           0.0|       null|   2019-11-29|\n",
      "|0x093C49137543113...|0x32EEDEAF1C25F02...|        42.0|      Man|          4|                 Male|Fashion - Accesso...|   Merchandise - Fun|      null|             No|             No|         0|          unknown|             1|           null|          null|            null|   25.2017|         null|          null|        null|           0.0|       null|   2019-11-30|\n",
      "|0x881B13322EDAD5A...|0xFB232D5DF949EAA...|        46.0|    Woman|          0|               Female|Fashion / Private...|       Private label|   desktop|             No|             No|         0|      retargeting|             2|           null|          null|            null|   33.5966|         null|          null|        null|           0.0|       null|   2019-11-17|\n",
      "|0x18A140FE14856C1...|0xD9D5BB566C60AA0...|        44.0|    Woman|          9|               Female|Fashion - Accesso...|    3rd Party Brands|       app|             No|             No|         0|           direct|             2|           null|          null|            null|   20.1513|         null|          null|        null|           0.0|       null|   2019-11-26|\n",
      "|0x006262D72C5E1A0...|0x92590690A51F928...|        43.0|Undefined|          9|               Unisex|Fashion / 3rd Par...|    3rd Party Brands|      null|             No|             No|         0|          unknown|             2|           null|          null|            null|  100.7479|         null|          null|        null|           0.0|       null|   2019-11-22|\n",
      "|0x183E089659F963C...|0x536B5A2E6706382...|        33.0|    Woman|          1|               Female|Entertainment - A...|Merchandise - Fil...|    mobile|            Yes|             No|         0|           direct|             3|           null|          null|            null|   79.8067|         null|          null|        null|      -21.0084|       null|   2019-11-25|\n",
      "|0x577B1E6B8A4C9DB...|0xFC19BD2A447F93B...|        34.0|      Man|         14|                 Male|               Media| Merchandise - Music|    mobile|            Yes|             No|         0|      retargeting|             1|           null|          null|            null|    9.2353|         null|          null|        null|           0.0|       null|   2019-11-30|\n",
      "|0xA4DA7E745B3279C...|0xACADE8A74B6E25E...|        23.0|    Woman|          1|               Female|Fashion / 3rd Par...|    3rd Party Brands|   desktop|            Yes|             No|         0|           direct|             7|           null|          null|            null|   224.311|         null|          null|        null|       -104.21|       null|   2019-11-11|\n",
      "|0xF21A7E40BC56126...|0x22365A49FE4BFA2...|        28.0|    Woman|          5|               Female|Fashion / 3rd Par...|    3rd Party Brands|    mobile|            Yes|             No|         0|      affiliating|             2|           null|          null|            null|  310.9076|         null|          null|        null|           0.0|       null|   2019-11-28|\n",
      "|0x3122F2764668208...|0x42779BB3038A5E4...|        null|      Man|          0|               Unisex| Music - Accessories| Merchandise - Music|       app|             No|             No|         0|           direct|             1|           null|          null|            null|   14.0093|         null|          null|        null|           0.0|       null|   2019-11-28|\n",
      "|0x81F8DA852F10195...|0x1C1AE01BD757278...|        47.0|    Woman|          9|               Unisex|Fashion / 3rd Par...|    3rd Party Brands|    mobile|            Yes|             No|         0|              seo|             2|           null|          null|            null|   157.126|         null|          null|        null|        -27.74|       null|   2019-11-19|\n",
      "|0x374BBF49FD4EED7...|0xCECB019EC8C7777...|        32.0|      Man|          0|               Unisex|Gaming - Accessories| Merchandise - Games|    mobile|             No|             No|         1|              pla|             1|           null|          null|            null|    9.8235|         null|          null|        null|          -1.1|       null|   2019-11-20|\n",
      "|0x2B5CE6BC6506332...|0x6D1545CF645A725...|        32.0|    Woman|          1|               Unisex|Entertainment - A...|Merchandise - Fil...|    mobile|            Yes|             No|         0|           direct|             2|           null|          null|            null|   50.4034|         null|          null|        null|          -4.2|       null|   2019-11-15|\n",
      "|0x9F6ED999060D79A...|0x0266A075277BA42...|        null|      Man|          0|               Unisex|Gaming - Accessories| Merchandise - Games|   desktop|             No|             No|         0|           direct|             1|           null|          null|            null|    6.7143|         null|          null|        null|           0.0|       null|   2019-11-11|\n",
      "|0x8E1D090DB73F1E8...|0xFC62A6D86C274F4...|        36.0|      Man|          1|                 Male|Funshirts&Hoodies...|   Merchandise - Fun|    mobile|             No|             No|         0|           direct|             1|           null|          null|            null|    5.0336|         null|          null|        null|           0.0|       null|   2019-11-19|\n",
      "|0xC96296D8C5D2DD1...|0xC2E6B8B3C476461...|        19.0|    Woman|          0|               Female|     Music - Apparel| Merchandise - Music|       app|             No|             No|         0|           direct|            13|           null|          null|            null|  362.9159|         null|          null|        null|           0.0|       null|   2019-11-23|\n",
      "|0xC3449AB67EDE9E7...|0xA23CB07BE47877F...|        26.0|    Woman|          8|               Female|Fashion / Private...|       Private label|       app|            Yes|             No|         0|           direct|             1|           null|          null|            null|   16.7983|         null|          null|        null|         -16.8|       null|   2019-11-22|\n",
      "|0x84C3BACB7B29EF4...|0x64BE9FB1701AC60...|        36.0|      Man|         14|               Female|Fashion / 3rd Par...|    3rd Party Brands|      null|             No|             No|         0|          unknown|             3|           null|          null|            null|   41.9917|         null|          null|        null|         -16.8|       null|   2019-11-22|\n",
      "|0x2B7117870D38B21...|0x371A0930188AB4F...|        null|Undefined|         12|                 Male|               Media| Merchandise - Music|       app|            Yes|             No|         0|           direct|             1|           null|          null|            null|    18.479|         null|          null|        null|           0.0|       null|   2019-11-29|\n",
      "|0x842B06BFA117908...|0xC0FBFB2F6453221...|        27.0|      Man|          8|                 Male|               Media| Merchandise - Music|       app|            Yes|             No|         0|           direct|             1|           null|          null|            null|      21.0|         null|          null|        null|           0.0|       null|   2019-11-17|\n",
      "+--------------------+--------------------+------------+---------+-----------+---------------------+--------------------+--------------------+----------+---------------+---------------+----------+-----------------+--------------+---------------+--------------+----------------+----------+-------------+--------------+------------+--------------+-----------+-------------+\n",
      "only showing top 20 rows\n",
      "\n"
     ]
    }
   ],
   "source": [
    "# Checking the rows where OrderProfit is missing. This row represents the total profit from the order.\n",
    "df[df[\"OrderProfit\"].isNull()].show()"
   ]
  },
  {
   "cell_type": "markdown",
   "metadata": {},
   "source": [
    "From the data set we can see that their is no duplicate values but their are few missing values which we have to handle before applying our ML algorithm.   \n",
    "1) We can see that almost 80% of data is missing in Pieces_Returns and simmillarly, 80% in Return_Value.   \n",
    "2) There is 29.2% data is missing in customer age column to impute these values we will use KNNImputer considering the values are missing at random.    \n",
    "3) ClientType 1% of data is missing may be we can drop the rows where the client type is missing since we have big data set.   \n",
    "4) We have 2% missing data in Pieces_Outbound.    \n",
    "5) We have 2% missing data in Pieces_Fulfilled.    \n",
    "6) We have 2% missing data in Revenue_Goods.   \n",
    "7) We have 2% missing data in Delivery_Value.    \n",
    "8) We have 2% missing data in OrderProfit.    \n",
    "##### Assumption:    \n",
    "1) I assume that for missing values in these fields (Pieces_Returns and Return_Value) meaning that no item has been returned so if no item is returned than no return value. In this case I will mark all the missing values with zero.     \n",
    "2) For Pieces_Outbound, this column represents the total number of items shipped to the customer so missing values means no item are shipped to the customer. We will drop these rows where Pieces_Otbound is missing since some of the items were ordered in 2019. I think other features (Pieces_Fulfilled, Revenue_Godds, Deliver_Value and OrderProfit) are also dependent on this so may be after droping rows for Pieces_Outbound we may not have to impute these features so we will first drop the rows and then see again if we need any imputation."
   ]
  },
  {
   "cell_type": "code",
   "execution_count": 57,
   "metadata": {},
   "outputs": [],
   "source": [
    "# droping rows with missing values in Pieces_Outbound, Marketing_Channel, ClientType\n",
    "df1 = df.dropna(subset=['Pieces_Outbound','Marketing_Channel','ClientType'])"
   ]
  },
  {
   "cell_type": "code",
   "execution_count": 59,
   "metadata": {},
   "outputs": [],
   "source": [
    "# imputing the columns with 0 considering their is no return.\n",
    "col_impute = ['Pieces_Returns','Return_Value']\n",
    "df1 = df1.fillna({'Pieces_Returns':0,'Return_Value':0})"
   ]
  },
  {
   "cell_type": "code",
   "execution_count": 60,
   "metadata": {
    "scrolled": true
   },
   "outputs": [],
   "source": [
    "# # checking for null values in the data set\n",
    "# col = df1.columns\n",
    "# for i in col:\n",
    "#     # count number of rows with missing values\n",
    "#     n_miss = df1[[i]].isnull().sum()\n",
    "#     perc = n_miss / df1.shape[0] * 100\n",
    "#     print('%s, Missing: %d (%.1f%%)' % (i, n_miss, perc))"
   ]
  },
  {
   "cell_type": "code",
   "execution_count": 61,
   "metadata": {
    "scrolled": true
   },
   "outputs": [
    {
     "data": {
      "text/plain": [
       "[('CustomerHash', 'string'),\n",
       " ('OrderHash', 'string'),\n",
       " ('Customer_Age', 'string'),\n",
       " ('Gender', 'string'),\n",
       " ('Account_Age', 'string'),\n",
       " ('AffinityProductGender', 'string'),\n",
       " ('Category_Reporting', 'string'),\n",
       " ('Genre', 'string'),\n",
       " ('ClientType', 'string'),\n",
       " ('PartnerProgram1', 'string'),\n",
       " ('PartnerProgram2', 'string'),\n",
       " ('FirstOrder', 'string'),\n",
       " ('Marketing_Channel', 'string'),\n",
       " ('Pieces_Ordered', 'string'),\n",
       " ('Pieces_Outbound', 'string'),\n",
       " ('Pieces_Returns', 'string'),\n",
       " ('Pieces_Fulfilled', 'string'),\n",
       " ('OrderValue', 'string'),\n",
       " ('Revenue_Goods', 'string'),\n",
       " ('Delivery_Value', 'string'),\n",
       " ('Return_Value', 'string'),\n",
       " ('Discount_Total', 'string'),\n",
       " ('OrderProfit', 'string'),\n",
       " ('DateTimeOrder', 'string')]"
      ]
     },
     "execution_count": 61,
     "metadata": {},
     "output_type": "execute_result"
    }
   ],
   "source": [
    "# Checking types of features in the dataset\n",
    "df1.dtypes"
   ]
  },
  {
   "cell_type": "code",
   "execution_count": 64,
   "metadata": {},
   "outputs": [],
   "source": [
    "# droping customer id and order id as we will not be using these for our clustering\n",
    "df1 = df1.drop('CustomerHash','OrderHash','DateTimeOrder')\n",
    "# df1.drop('DateTimeOrder',inplace = True,axis =1)"
   ]
  },
  {
   "cell_type": "code",
   "execution_count": 66,
   "metadata": {
    "scrolled": true
   },
   "outputs": [],
   "source": [
    "# print('Gender: ',df1.Gender.unique())\n",
    "# print('\\nAffinity Product Gender: ',df1.AffinityProductGender.unique())\n",
    "# print('\\nReporting Category: ',df1.Category_Reporting.unique())\n",
    "# print('\\nGenre: ',df1.Genre.unique())\n",
    "# print('\\nClient Type: ',df1.ClientType.unique())\n",
    "# print('\\nPartner Program1: ',df1.PartnerProgram1.unique())\n",
    "# print('\\nPartner Program2: ',df1.PartnerProgram2.unique())\n",
    "# print('\\nMarketing Channel: ',df1.Marketing_Channel.unique())"
   ]
  },
  {
   "cell_type": "code",
   "execution_count": 70,
   "metadata": {
    "scrolled": true
   },
   "outputs": [
    {
     "name": "stdout",
     "output_type": "stream",
     "text": [
      "+---------+\n",
      "|   Gender|\n",
      "+---------+\n",
      "|      Man|\n",
      "|Undefined|\n",
      "|    Woman|\n",
      "+---------+\n",
      "\n",
      "+---------------------+\n",
      "|AffinityProductGender|\n",
      "+---------------------+\n",
      "|                 Male|\n",
      "|               Female|\n",
      "|               Unisex|\n",
      "+---------------------+\n",
      "\n",
      "+--------------------+\n",
      "|  Category_Reporting|\n",
      "+--------------------+\n",
      "|     Music - Apparel|\n",
      "|Entertainment - A...|\n",
      "|Fashion - Accesso...|\n",
      "|            Freebies|\n",
      "|Funshirts&Hoodies...|\n",
      "|          Warner D2C|\n",
      "|Fashion / Private...|\n",
      "|      BSC Membership|\n",
      "|Entertainment - A...|\n",
      "|    Gaming - Apparel|\n",
      "|               Media|\n",
      "| Music - Accessories|\n",
      "|Gaming - Accessories|\n",
      "|Fashion / 3rd Par...|\n",
      "+--------------------+\n",
      "\n",
      "+--------------------+\n",
      "|               Genre|\n",
      "+--------------------+\n",
      "| Merchandise - Music|\n",
      "|   Merchandise - Fun|\n",
      "| Merchandise - Other|\n",
      "|          Warner D2C|\n",
      "|    3rd Party Brands|\n",
      "|       Private label|\n",
      "|               Other|\n",
      "|Merchandise - Fil...|\n",
      "| Merchandise - Games|\n",
      "+--------------------+\n",
      "\n",
      "+----------+\n",
      "|ClientType|\n",
      "+----------+\n",
      "|   desktop|\n",
      "|       app|\n",
      "|    mobile|\n",
      "+----------+\n",
      "\n",
      "+---------------+\n",
      "|PartnerProgram1|\n",
      "+---------------+\n",
      "|             No|\n",
      "|            Yes|\n",
      "+---------------+\n",
      "\n",
      "+---------------+\n",
      "|PartnerProgram2|\n",
      "+---------------+\n",
      "|             No|\n",
      "|            Yes|\n",
      "+---------------+\n",
      "\n",
      "+------------------+\n",
      "| Marketing_Channel|\n",
      "+------------------+\n",
      "|           display|\n",
      "|   partner program|\n",
      "|            direct|\n",
      "|               seo|\n",
      "|other om campaigns|\n",
      "|         sea brand|\n",
      "|   social referrer|\n",
      "|        newsletter|\n",
      "|      social media|\n",
      "|           Payback|\n",
      "|       affiliating|\n",
      "|      sea nonbrand|\n",
      "|          referrer|\n",
      "|        social ads|\n",
      "|                mc|\n",
      "|      marketplaces|\n",
      "|           unknown|\n",
      "|       retargeting|\n",
      "|               pla|\n",
      "+------------------+\n",
      "\n"
     ]
    }
   ],
   "source": [
    "df1.select(\"Gender\").distinct().show()\n",
    "df1.select(\"AffinityProductGender\").distinct().show()\n",
    "df1.select(\"Category_Reporting\").distinct().show()\n",
    "df1.select(\"Genre\").distinct().show()\n",
    "df1.select(\"ClientType\").distinct().show()\n",
    "df1.select(\"PartnerProgram1\").distinct().show()\n",
    "df1.select(\"PartnerProgram2\").distinct().show()\n",
    "df1.select(\"Marketing_Channel\").distinct().show()\n",
    "\n",
    "\n",
    "# print('\\nAffinity Product Gender: ',df1.AffinityProductGender.unique())\n",
    "# print('\\nReporting Category: ',df1.Category_Reporting.unique())\n",
    "# print('\\nGenre: ',df1.Genre.unique())\n",
    "# print('\\nClient Type: ',df1.ClientType.unique())\n",
    "# print('\\nPartner Program1: ',df1.PartnerProgram1.unique())\n",
    "# print('\\nPartner Program2: ',df1.PartnerProgram2.unique())\n",
    "# print('\\nMarketing Channel: ',df1.Marketing_Channel.unique())"
   ]
  },
  {
   "cell_type": "code",
   "execution_count": 72,
   "metadata": {},
   "outputs": [],
   "source": [
    "# # converting Gender from object type to int\n",
    "# df1.Gender = df1.Gender.replace({'Man':1, 'Woman':2,'Undefined':3})"
   ]
  },
  {
   "cell_type": "code",
   "execution_count": 75,
   "metadata": {},
   "outputs": [],
   "source": [
    "# converting Gender from object type to int\n",
    "df1 = df1.withColumn('Gender', F.when(df1.Gender == 'Man', 1).otherwise(\n",
    "      F.when(df1.Gender == 'Woman',2).otherwise(3)\n",
    "))"
   ]
  },
  {
   "cell_type": "code",
   "execution_count": 72,
   "metadata": {},
   "outputs": [],
   "source": [
    "# # converting Affinity Product Gender from object type to int\n",
    "# df1.AffinityProductGender = df1.AffinityProductGender.replace({'Male':1, 'Female':2,'Unisex':3})"
   ]
  },
  {
   "cell_type": "code",
   "execution_count": 76,
   "metadata": {},
   "outputs": [],
   "source": [
    "# converting Affinity Product Gender from object type to int\n",
    "df1 = df1.withColumn('AffinityProductGender', F.when(df1.AffinityProductGender == 'Male', 1).otherwise(\n",
    "      F.when(df1.AffinityProductGender == 'Female',2).otherwise(3)\n",
    "))"
   ]
  },
  {
   "cell_type": "code",
   "execution_count": 73,
   "metadata": {},
   "outputs": [],
   "source": [
    "# converting Affinity Product Gender from object type to int\n",
    "df1.Category_Reporting = df1.Category_Reporting.replace({'Fashion / Private label - Apparel':1, 'Warner D2C':2,\n",
    "                                                          'BSC Membership':3, 'Entertainment - Apparel':4,\n",
    "                                                          'Media':5, 'Funshirts&Hoodies - Apparel':6,\n",
    "                                                          'Music - Apparel':7, 'Fashion - Accessories':8,\n",
    "                                                          'Fashion / 3rd Party - Apparel':9, 'Entertainment - Accessories':10,\n",
    "                                                          'Gaming - Accessories':11, 'Gaming - Apparel':12,\n",
    "                                                          'Music - Accessories':13, 'Freebies':14                                                                                                                                    \n",
    "                                                         })"
   ]
  },
  {
   "cell_type": "code",
   "execution_count": 74,
   "metadata": {},
   "outputs": [],
   "source": [
    "# converting Affinity Product Gender from object type to int\n",
    "df1.Genre = df1.Genre.replace({'Private label':1, 'Warner D2C':2, 'Other':3, 'Merchandise - Film & TV':4,\n",
    "                                             'Merchandise - Music':5, 'Merchandise - Fun':6, '3rd Party Brands':7,\n",
    "                                             'Merchandise - Other':8, 'Merchandise - Games':9\n",
    "                                            })"
   ]
  },
  {
   "cell_type": "code",
   "execution_count": 75,
   "metadata": {},
   "outputs": [],
   "source": [
    "# # converting Affinity Product Gender from object type to int\n",
    "# df1.ClientType = df1.ClientType.replace({'desktop':1, 'mobile':2, 'app':3})"
   ]
  },
  {
   "cell_type": "code",
   "execution_count": 77,
   "metadata": {},
   "outputs": [],
   "source": [
    "# converting Affinity Product Gender from object type to int\n",
    "df1 = df1.withColumn('ClientType', F.when(df1.ClientType == 'desktop', 1).otherwise(\n",
    "      F.when(df1.ClientType == 'mobile',2).otherwise(3)\n",
    "))"
   ]
  },
  {
   "cell_type": "code",
   "execution_count": 76,
   "metadata": {},
   "outputs": [],
   "source": [
    "# # converting Affinity Product Gender from object type to int\n",
    "# df1.PartnerProgram1 = df1.PartnerProgram1.replace({'No':0, 'Yes':1})"
   ]
  },
  {
   "cell_type": "code",
   "execution_count": 78,
   "metadata": {},
   "outputs": [],
   "source": [
    "# converting Affinity Product Gender from object type to int\n",
    "df1 = df1.withColumn('PartnerProgram1', F.when(df1.PartnerProgram1 == 'No', 0).otherwise(1))"
   ]
  },
  {
   "cell_type": "code",
   "execution_count": 77,
   "metadata": {},
   "outputs": [],
   "source": [
    "# # converting Affinity Product Gender from object type to int\n",
    "# df1.PartnerProgram2 = df1.PartnerProgram2.replace({'No':0, 'Yes':1})"
   ]
  },
  {
   "cell_type": "code",
   "execution_count": 79,
   "metadata": {},
   "outputs": [],
   "source": [
    "# converting Affinity Product Gender from object type to int\n",
    "df1 = df1.withColumn('PartnerProgram2', F.when(df1.PartnerProgram2 == 'No', 0).otherwise(1))"
   ]
  },
  {
   "cell_type": "code",
   "execution_count": 78,
   "metadata": {},
   "outputs": [],
   "source": [
    "# converting Affinity Product Gender from object type to int\n",
    "df1.Marketing_Channel = df1.Marketing_Channel.replace({'direct':1, 'seo':2, 'newsletter':3, 'sea nonbrand':4,\n",
    "                                                         'pla':5, 'sea brand':6, 'retargeting':7, 'social media':8,\n",
    "                                                         'marketplaces':9, 'affiliating':10, 'social referrer':11,\n",
    "                                                         'social ads':12, 'unknown':13, 'referrer':14, 'mc':15,\n",
    "                                                         'partner program':16, 'other om campaigns':17, 'display':18,\n",
    "                                                         'Payback':19\n",
    "                                                        })"
   ]
  },
  {
   "cell_type": "code",
   "execution_count": 79,
   "metadata": {},
   "outputs": [],
   "source": [
    "# # Ploting Sale for age and Tenure\n",
    "# fig, (ax1, ax2) = plt.subplots(1, 2, figsize=(14, 4))\n",
    "# df_train['Tenure_Bins'] = pd.cut(df_train['Tenure'], bins = [0,50,100,150,200,250,300])\n",
    "# df_train['Age_Bins'] = pd.cut(df_train['Age'], bins = [0,40,60,80,100])\n",
    "# sns.countplot(df_train[df_train['Sale_CL']==1]['Tenure_Bins'], hue=df_train[df_train['Sale_CL']==1][\"Sex\"] ,ax=ax1);\n",
    "# sns.countplot(df_train[df_train['Sale_CL']==1]['Age_Bins'], hue=df_train[df_train['Sale_CL']==1][\"Sex\"], ax=ax2);\n",
    "# df_train.drop(labels=['Tenure_Bins','Age_Bins'], axis=1, inplace=True)"
   ]
  },
  {
   "cell_type": "code",
   "execution_count": null,
   "metadata": {},
   "outputs": [],
   "source": []
  },
  {
   "cell_type": "code",
   "execution_count": 94,
   "metadata": {},
   "outputs": [
    {
     "data": {
      "image/png": "[encoded data removed]",
      "text/plain": [
       "<Figure size 576x432 with 1 Axes>"
      ]
     },
     "metadata": {},
     "output_type": "display_data"
    }
   ],
   "source": [
    "# density plot with Age of customer\n",
    "sns.set_style('darkgrid')\n",
    "sns.set(rc={'figure.figsize':(8,6)})\n",
    "my_list = df.select(F.collect_list('Customer_Age')).first()[0]\n",
    "sns.distplot(my_list, bins=30);"
   ]
  },
  {
   "cell_type": "code",
   "execution_count": null,
   "metadata": {},
   "outputs": [],
   "source": [
    "# imputing with KNNImputer\n",
    "cols1 = df1.columns\n",
    "k = math.sqrt(df1.shape[0])\n",
    "imputer = KNNImputer(n_neighbors=5, weights='uniform', metric='nan_euclidean')\n",
    "# df_train.Age = df_train.Age.replace('Age<=10',np.nan,regex=True)\n",
    "# df.Customer_Age = df.Customer_Age.mask(df.Customer_Age <= 10)\n",
    "df1[cols1] = imputer.fit_transform(df1.values)"
   ]
  },
  {
   "cell_type": "code",
   "execution_count": 85,
   "metadata": {},
   "outputs": [
    {
     "data": {
      "text/plain": [
       "1042.5607895945445"
      ]
     },
     "execution_count": 85,
     "metadata": {},
     "output_type": "execute_result"
    }
   ],
   "source": [
    "math.sqrt(df1.shape[0])"
   ]
  },
  {
   "cell_type": "code",
   "execution_count": 89,
   "metadata": {},
   "outputs": [
    {
     "data": {
      "text/plain": [
       "Column<b'Customer_Age[0]'>"
      ]
     },
     "execution_count": 89,
     "metadata": {},
     "output_type": "execute_result"
    }
   ],
   "source": [
    "df1['Customer_Age'].getItem(0)"
   ]
  },
  {
   "cell_type": "code",
   "execution_count": 91,
   "metadata": {},
   "outputs": [],
   "source": [
    "my_list = df.select(F.collect_list('Customer_Age')).first()[0]"
   ]
  },
  {
   "cell_type": "code",
   "execution_count": 93,
   "metadata": {},
   "outputs": [],
   "source": [
    "# my_list"
   ]
  },
  {
   "cell_type": "code",
   "execution_count": null,
   "metadata": {},
   "outputs": [],
   "source": []
  },
  {
   "cell_type": "code",
   "execution_count": null,
   "metadata": {},
   "outputs": [],
   "source": []
  },
  {
   "cell_type": "code",
   "execution_count": null,
   "metadata": {},
   "outputs": [],
   "source": []
  },
  {
   "cell_type": "code",
   "execution_count": null,
   "metadata": {},
   "outputs": [],
   "source": []
  },
  {
   "cell_type": "code",
   "execution_count": null,
   "metadata": {},
   "outputs": [],
   "source": []
  }
 ],
 "metadata": {
  "kernelspec": {
   "display_name": "Python 3",
   "language": "python",
   "name": "python3"
  },
  "language_info": {
   "codemirror_mode": {
    "name": "ipython",
    "version": 3
   },
   "file_extension": ".py",
   "mimetype": "text/x-python",
   "name": "python",
   "nbconvert_exporter": "python",
   "pygments_lexer": "ipython3",
   "version": "3.8.5"
  }
 },
 "nbformat": 4,
 "nbformat_minor": 4
}
